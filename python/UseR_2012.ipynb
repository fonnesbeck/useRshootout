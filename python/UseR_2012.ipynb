{
 "metadata": {
  "name": "UseR_2012"
 },
 "nbformat": 3,
 "worksheets": [
  {
   "cells": [
    {
     "cell_type": "markdown",
     "source": [
      "# Python for R Programmers\n",
      "\n",
      "### Christopher Fonnesbeck\n",
      "### Vanderbilt University\n",
      "#### 14 June, 2012"
     ]
    },
    {
     "cell_type": "heading",
     "level": 2,
     "source": [
      "What is Python?"
     ]
    },
    {
     "cell_type": "markdown",
     "source": [
      "## Numpy and Scipy"
     ]
    },
    {
     "cell_type": "markdown",
     "source": [
      "## Matplotlib"
     ]
    },
    {
     "cell_type": "markdown",
     "source": [
      "## IPython"
     ]
    },
    {
     "cell_type": "markdown",
     "source": [
      "## Pandas"
     ]
    },
    {
     "cell_type": "markdown",
     "source": [
      "## Cython and f2py"
     ]
    },
    {
     "cell_type": "markdown",
     "source": [
      "\t      SUBROUTINE bernoulli(x,p,nx,np,like)\n",
      "\n",
      "\tcf2py logical dimension(nx),intent(in) :: x\n",
      "\tcf2py double precision dimension(np),intent(in) :: p\n",
      "\tcf2py integer intent(hide),depend(x) :: nx=len(x)\n",
      "\tcf2py integer intent(hide),depend(p),check(len(p)==1 || len(p)==len(x)):: np=len(p)\n",
      "\tcf2py double precision intent(out) :: like\n",
      "\tcf2py threadsafe\n",
      "\n",
      "\t      IMPLICIT NONE\n",
      "\n",
      "\t      INTEGER np,nx,i\n",
      "\t      DOUBLE PRECISION p(np), ptmp, like\n",
      "\t      LOGICAL x(nx)\n",
      "\t      LOGICAL not_scalar_p\n",
      "\t      DOUBLE PRECISION infinity\n",
      "\t      PARAMETER (infinity = 1.7976931348623157d308)\n",
      "\n",
      "\tC     Check parameter size\n",
      "\t      not_scalar_p = (np .NE. 1)\n",
      "\n",
      "\t      like = 0.0\n",
      "\t      ptmp = p(1)\n",
      "\t      do i=1,nx\n",
      "\t        if (not_scalar_p) ptmp = p(i)\n",
      "\t        if (ptmp .LT. 0.0) then\n",
      "\t          like = -infinity\n",
      "\t          RETURN\n",
      "\t        endif\n",
      "\n",
      "\t        if (x(i)) then\n",
      "\t          like = like + dlog(ptmp)\n",
      "\t        else\n",
      "\t          like = like + dlog(1.0D0 - ptmp)\n",
      "\t        endif\n",
      "\n",
      "\t      enddo\n",
      "\t      return\n",
      "\t      END\n"
     ]
    },
    {
     "cell_type": "heading",
     "level": 2,
     "source": [
      "Benchmark example: Gibbs sampling"
     ]
    },
    {
     "cell_type": "markdown",
     "source": [
      "Gibbs sampler for function:\n",
      "\n",
      "$$f(x,y) = x x^2 \\exp(-xy^2 - y^2 + 2y - 4x)$$\n",
      "\n",
      "using conditional distributions:\n",
      "    \n",
      "$$x|y \\sim Gamma(3, y^2 +4)$$\n",
      "$$y|x \\sim Normal(\\frac{1}{1+x}, \\frac{1}{2(1+x)})$$"
     ]
    },
    {
     "cell_type": "code",
     "input": [
      "from numpy import zeros, random, sqrt\n",
      "gamma = random.gamma\n",
      "normal = random.normal\n",
      "\n",
      "def gibbs(N=20000, thin=200):\n",
      "    mat = zeros((N,2))\n",
      "    x,y = mat[0]\n",
      "    for i in range(N):\n",
      "        for j in range(thin):\n",
      "            x = gamma(3, y**2 + 4)\n",
      "            y = normal(1./(x+1), 1./sqrt(2*(x+1)))\n",
      "        mat[i] = x,y\n",
      "\n",
      "    return mat\n"
     ],
     "language": "python",
     "outputs": [],
     "prompt_number": 16
    },
    {
     "cell_type": "code",
     "input": [
      "timeit gibbs(20000, 200)"
     ],
     "language": "python",
     "outputs": [
      {
       "output_type": "stream",
       "stream": "stdout",
       "text": [
        "1 loops, best of 3: 27.8 s per loop\n"
       ]
      }
     ],
     "prompt_number": 15
    },
    {
     "cell_type": "markdown",
     "source": [
      "\tcimport cython\n",
      "\timport numpy as np\n",
      "\tfrom numpy cimport *\n",
      "\n",
      "\t@cython.wraparound(False)\n",
      "\t@cython.boundscheck(False)\n",
      "\tdef gibbs(int N=20000,int thin=500):\n",
      "\t    cdef: \n",
      "\t        double x=0\n",
      "\t        double y=0\n",
      "\t        int i, j\n",
      "\t        ndarray[float64_t, ndim=2] samples\n",
      "\n",
      "\t    samples = np.empty((N,thin))\n",
      "\t    for i from 0 <= i < N:\n",
      "\t        for j from 0 <= j < thin:\n",
      "\t            x = gamma(r,3,1.0/(y*y+4))\n",
      "\t            y = gaussian(r,1.0/np.sqrt(x+1))\n",
      "\t        samples[i,0] = x\n",
      "\t        samples[i,1] = y\n",
      "\t    return samples"
     ]
    },
    {
     "cell_type": "code",
     "input": [
      "from simplegibbs_cython import gibbs as gibbs_cython"
     ],
     "language": "python",
     "outputs": [],
     "prompt_number": 7
    },
    {
     "cell_type": "code",
     "input": [
      "timeit gibbs_cython(20000, 200)"
     ],
     "language": "python",
     "outputs": [
      {
       "output_type": "stream",
       "stream": "stdout",
       "text": [
        "1 loops, best of 3: 522 ms per loop\n"
       ]
      }
     ],
     "prompt_number": 14
    },
    {
     "cell_type": "markdown",
     "source": [
      "## Gibbs Sampler Shootout\n",
      "\n",
      "Timed on a 11\" MacBook Air (1.8 GHz Intel Core i7)\n",
      "\n",
      "* Python 2.7.1, Cython 0.16\n",
      "* Julia 0.0.0 (!!)\n",
      "* R 2.14.1, Rcpp 0.9.10"
     ]
    },
    {
     "cell_type": "markdown",
     "source": [
      "<TABLE cellpadding=\"4\" style=\"border: 1px solid #000000; border-collapse: collapse;\" border=\"1\"> <TR>  <TH>model</TH>  <TH>elapsed</TH>  <TH>relative</TH> </TR> <TR bgcolor=\"#FFFF00\">  <TD>Julia distributed</TD>  <TD>3.38</TD>  <TD>1.0</TD> </TR> <TR>  <TD>GSLGibbs</TD>  <TD>5.46</TD>  <TD>1.6</TD> </TR> <TR bgcolor=\"#00FFFF\">  <TD>Cython</TD>  <TD>5.58</TD>  <TD>1.7</TD> </TR> <TR bgcolor=\"#FFFF00\">  <TD>Julia native RNG</TD>  <TD>7.03</TD>  <TD>2.1</TD> </TR> <TR>  <TD>RcppGibbs</TD>  <TD>9.95</TD>  <TD>2.9</TD> </TR> <TR>  <TD>BoostGibbs</TD>  <TD>10.65</TD>  <TD>3.2</TD> </TR> <TR bgcolor=\"#FFFF00\">  <TD>Julia libRMath</TD>  <TD>17.27</TD>  <TD>5.1</TD> </TR> <TR bgcolor=\"#00FFFF\">  <TD>Pure Python</TD>  <TD>278.51</TD>  <TD>82.4</TD> </TR> <TR>  <TD>RCgibbs</TD>  <TD>328.56</TD>  <TD>97.2</TD> </TR> <TR>  <TD>Rgibbs</TD>  <TD>419.87</TD>  <TD>124.2</TD> </TR></TABLE>"
     ]
    },
    {
     "cell_type": "code",
     "input": [],
     "language": "python",
     "outputs": []
    }
   ]
  }
 ]
}