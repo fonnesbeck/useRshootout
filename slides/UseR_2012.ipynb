{
 "metadata": {
  "name": "UseR_2012"
 },
 "nbformat": 3,
 "worksheets": [
  {
   "cells": [
    {
     "cell_type": "markdown",
     "source": [
      "# Python for R Programmers\n",
      "\n",
      "![Python logo](http://python.org/images/python-logo.gif)\n",
      "\n",
      "### Christopher Fonnesbeck\n",
      "### Vanderbilt University\n",
      "#### 14 June, 2012\n"
     ]
    },
    {
     "cell_type": "markdown",
     "source": [
      "## What is Python?\n",
      "\n",
      "Python is a **dynamic**, **interpreted** programming language that is **flexible** enough to be used for a variety of tasks, from scripts to mission-critical applications. It currently has a very strong presence in **scientific computing**. Despite being an easy-to-use, high-level language, it is also capable of achieving very high performance."
     ]
    },
    {
     "cell_type": "markdown",
     "source": [
      "**Runnable pseudocode**: Python's syntax is readable and clear."
     ]
    },
    {
     "cell_type": "code",
     "input": [
      "from numpy import zeros, random, sqrt\n",
      "gamma = random.gamma\n",
      "normal = random.normal\n",
      "\n",
      "def pygibbs(N=20000, thin=200):\n",
      "    mat = zeros((N,2))\n",
      "    x,y = mat[0]\n",
      "    for i in range(N):\n",
      "        for j in range(thin):\n",
      "            x = gamma(3, y**2 + 4)\n",
      "            y = normal(1./(x+1), 1./sqrt(2*(x+1)))\n",
      "        mat[i] = x,y\n",
      "\n",
      "    return mat"
     ],
     "language": "python",
     "outputs": [],
     "prompt_number": 55
    },
    {
     "cell_type": "markdown",
     "source": [
      "Python objects are **dynamically referenced**"
     ]
    },
    {
     "cell_type": "code",
     "input": [
      "y = 5\n",
      "y = 'foo'\n",
      "x = y = [1, 2, 3]\n",
      "y[0] = -9\n",
      "x"
     ],
     "language": "python",
     "outputs": []
    },
    {
     "cell_type": "markdown",
     "source": [
      "... but **strongly typed**!"
     ]
    },
    {
     "cell_type": "code",
     "input": [
      "'5' + 6"
     ],
     "language": "python",
     "outputs": []
    },
    {
     "cell_type": "markdown",
     "source": [
      "### Python is \"batteries-included\"\n",
      "\n",
      "Includes a broad selection of general-purpose libraries."
     ]
    },
    {
     "cell_type": "code",
     "input": [
      "from IPython.core.display import HTML\n",
      "HTML('<iframe src=http://docs.python.org/modindex.html width=700 height=350>')"
     ],
     "language": "python",
     "outputs": []
    },
    {
     "cell_type": "markdown",
     "source": [
      "## Numpy and Scipy"
     ]
    },
    {
     "cell_type": "code",
     "input": [
      "# Calculate second difference matrix\n",
      "import numpy as np\n",
      "\n",
      "I2 = -2*np.eye(8)\n",
      "E = np.diag(np.ones(7), k=-1)\n",
      "I2 + E + E.T"
     ],
     "language": "python",
     "outputs": []
    },
    {
     "cell_type": "code",
     "input": [
      "from scipy import linalg\n",
      "\n",
      "def lse(A, b, B, d, cond=None):\n",
      "    \"\"\"\n",
      "    Equality-contrained least squares.\n",
      "    \n",
      "    The following algorithm minimizes ||Ax - b|| subject to the\n",
      "    constrain Bx = d.\n",
      "    \"\"\"\n",
      "    \n",
      "    A, b, B, d = map(np.asanyarray, (A, b, B, d))\n",
      "    p = B.shape[0]\n",
      "    \n",
      "    # QR decomposition of constraint matrix B\n",
      "    Q, R = linalg.qr(B.T)\n",
      "    \n",
      "    # Solve Ax = b, assuming A is triangular\n",
      "    y = linalg.solve_triangular(R[:p, :p], d, trans='T', lower=False)\n",
      "    A = np.dot(A, Q)\n",
      "    \n",
      "    # Least squares solution to Ax = b\n",
      "    z = linalg.lstsq(A[:, p:], b - np.dot(A[:, :p], y),\n",
      "                         cond=cond)[0].ravel()\n",
      "                         \n",
      "    return np.dot(Q[:, :p], y) + np.dot(Q[:, p:], z)"
     ],
     "language": "python",
     "outputs": []
    },
    {
     "cell_type": "code",
     "input": [
      "A, b = [[0, 2, 3], [1, 3, 4.5]], [1, 1]\n",
      "B, d = [[1, 1, 0]], [1]\n",
      "lse(A, b, B, d)"
     ],
     "language": "python",
     "outputs": []
    },
    {
     "cell_type": "markdown",
     "source": [
      "## Matplotlib"
     ]
    },
    {
     "cell_type": "code",
     "input": [
      "import pylab as plt\n",
      "t = np.arange(0, 10, 0.01)\n",
      "ax1 = plt.subplot(211)\n",
      "ax1.plot(t, np.sin(2*np.pi*t))\n",
      "ax2 = plt.subplot(212, sharex=ax1)\n",
      "ax2.plot(t, np.sin(4*np.pi*t))"
     ],
     "language": "python",
     "outputs": [
      {
       "output_type": "pyout",
       "prompt_number": 63,
       "text": [
        "[<matplotlib.lines.Line2D at 0x10827cd90>]"
       ]
      },
      {
       "output_type": "display_data",
       "png": "[encoded data removed]"
      }
     ],
     "prompt_number": 63
    },
    {
     "cell_type": "code",
     "input": [
      "from pymc.examples import gelman_bioassay\n",
      "from pymc import MCMC, Matplot\n",
      "M = MCMC(gelman_bioassay)\n",
      "M.sample(1000,verbose=0)"
     ],
     "language": "python",
     "outputs": [
      {
       "output_type": "stream",
       "stream": "stdout",
       "text": [
        " \r",
        "[****************100%******************]  1000 of 1000 complete"
       ]
      },
      {
       "output_type": "stream",
       "stream": "stdout",
       "text": [
        "\n"
       ]
      }
     ],
     "prompt_number": 60
    },
    {
     "cell_type": "code",
     "input": [
      "Matplot.plot(M.alpha)"
     ],
     "language": "python",
     "outputs": [
      {
       "output_type": "stream",
       "stream": "stdout",
       "text": [
        "Plotting alpha\n"
       ]
      },
      {
       "output_type": "display_data",
       "png": "[encoded data removed]"
      }
     ],
     "prompt_number": 61
    },
    {
     "cell_type": "code",
     "input": [
      "import numpy as np\n",
      "import matplotlib.pyplot as plt\n",
      "from matplotlib.patches import Polygon\n",
      "\n",
      "\n",
      "# Generate some data from five different probability distributions,\n",
      "# each with different characteristics. We want to play with how an IID\n",
      "# bootstrap resample of the data preserves the distributional\n",
      "# properties of the original sample, and a boxplot is one visual tool\n",
      "# to make this assessment\n",
      "numDists = 5\n",
      "randomDists = ['Normal(1,1)',' Lognormal(1,1)', 'Exp(1)', 'Gumbel(6,4)',\n",
      "              'Triangular(2,9,11)']\n",
      "N = 500\n",
      "norm = np.random.normal(1,1, N)\n",
      "logn = np.random.lognormal(1,1, N)\n",
      "expo = np.random.exponential(1, N)\n",
      "gumb = np.random.gumbel(6, 4, N)\n",
      "tria = np.random.triangular(2, 9, 11, N)\n",
      "\n",
      "# Generate some random indices that we'll use to resample the original data\n",
      "# arrays. For code brevity, just use the same random indices for each array\n",
      "bootstrapIndices = np.random.random_integers(0, N-1, N)\n",
      "normBoot = norm[bootstrapIndices]\n",
      "expoBoot = expo[bootstrapIndices]\n",
      "gumbBoot = gumb[bootstrapIndices]\n",
      "lognBoot = logn[bootstrapIndices]\n",
      "triaBoot = tria[bootstrapIndices]\n",
      "\n",
      "data = [norm, normBoot,  logn, lognBoot, expo, expoBoot, gumb, gumbBoot,\n",
      "       tria, triaBoot]\n",
      "\n",
      "fig = plt.figure(figsize=(10,6))\n",
      "fig.canvas.set_window_title('A Boxplot Example')\n",
      "ax1 = fig.add_subplot(111)\n",
      "plt.subplots_adjust(left=0.075, right=0.95, top=0.9, bottom=0.25)\n",
      "\n",
      "bp = plt.boxplot(data, notch=0, sym='+', vert=1, whis=1.5)\n",
      "plt.setp(bp['boxes'], color='black')\n",
      "plt.setp(bp['whiskers'], color='black')\n",
      "plt.setp(bp['fliers'], color='red', marker='+')\n",
      "\n",
      "# Add a horizontal grid to the plot, but make it very light in color\n",
      "# so we can use it for reading data values but not be distracting\n",
      "ax1.yaxis.grid(True, linestyle='-', which='major', color='lightgrey',\n",
      "              alpha=0.5)\n",
      "\n",
      "# Hide these grid behind plot objects\n",
      "ax1.set_axisbelow(True)\n",
      "ax1.set_title('Comparison of IID Bootstrap Resampling Across Five Distributions')\n",
      "ax1.set_xlabel('Distribution')\n",
      "ax1.set_ylabel('Value')\n",
      "\n",
      "# Now fill the boxes with desired colors\n",
      "boxColors = ['darkkhaki','royalblue']\n",
      "numBoxes = numDists*2\n",
      "medians = range(numBoxes)\n",
      "for i in range(numBoxes):\n",
      "  box = bp['boxes'][i]\n",
      "  boxX = []\n",
      "  boxY = []\n",
      "  for j in range(5):\n",
      "      boxX.append(box.get_xdata()[j])\n",
      "      boxY.append(box.get_ydata()[j])\n",
      "  boxCoords = zip(boxX,boxY)\n",
      "  # Alternate between Dark Khaki and Royal Blue\n",
      "  k = i % 2\n",
      "  boxPolygon = Polygon(boxCoords, facecolor=boxColors[k])\n",
      "  ax1.add_patch(boxPolygon)\n",
      "  # Now draw the median lines back over what we just filled in\n",
      "  med = bp['medians'][i]\n",
      "  medianX = []\n",
      "  medianY = []\n",
      "  for j in range(2):\n",
      "      medianX.append(med.get_xdata()[j])\n",
      "      medianY.append(med.get_ydata()[j])\n",
      "      plt.plot(medianX, medianY, 'k')\n",
      "      medians[i] = medianY[0]\n",
      "  # Finally, overplot the sample averages, with horixzontal alignment\n",
      "  # in the center of each box\n",
      "  plt.plot([np.average(med.get_xdata())], [np.average(data[i])],\n",
      "           color='w', marker='*', markeredgecolor='k')\n",
      "\n",
      "# Set the axes ranges and axes labels\n",
      "ax1.set_xlim(0.5, numBoxes+0.5)\n",
      "top = 40\n",
      "bottom = -5\n",
      "ax1.set_ylim(bottom, top)\n",
      "xtickNames = plt.setp(ax1, xticklabels=np.repeat(randomDists, 2))\n",
      "plt.setp(xtickNames, rotation=45, fontsize=8)\n",
      "\n",
      "# Due to the Y-axis scale being different across samples, it can be\n",
      "# hard to compare differences in medians across the samples. Add upper\n",
      "# X-axis tick labels with the sample medians to aid in comparison\n",
      "# (just use two decimal places of precision)\n",
      "pos = np.arange(numBoxes)+1\n",
      "upperLabels = [str(np.round(s, 2)) for s in medians]\n",
      "weights = ['bold', 'semibold']\n",
      "for tick,label in zip(range(numBoxes),ax1.get_xticklabels()):\n",
      "   k = tick % 2\n",
      "   ax1.text(pos[tick], top-(top*0.05), upperLabels[tick],\n",
      "        horizontalalignment='center', size='x-small', weight=weights[k],\n",
      "        color=boxColors[k])\n",
      "\n",
      "# Finally, add a basic legend\n",
      "plt.figtext(0.80, 0.08,  str(N) + ' Random Numbers' ,\n",
      "           backgroundcolor=boxColors[0], color='black', weight='roman',\n",
      "           size='x-small')\n",
      "plt.figtext(0.80, 0.045, 'IID Bootstrap Resample',\n",
      "backgroundcolor=boxColors[1],\n",
      "           color='white', weight='roman', size='x-small')\n",
      "plt.figtext(0.80, 0.015, '*', color='white', backgroundcolor='silver',\n",
      "           weight='roman', size='medium')\n",
      "plt.figtext(0.815, 0.013, ' Average Value', color='black', weight='roman',\n",
      "           size='x-small')\n",
      "\n",
      "plt.show()"
     ],
     "language": "python",
     "outputs": [
      {
       "output_type": "display_data",
       "png": "[encoded data removed]"
      }
     ],
     "prompt_number": 56
    },
    {
     "cell_type": "markdown",
     "source": [
      "## IPython"
     ]
    },
    {
     "cell_type": "markdown",
     "source": [
      "### Magic functions\n",
      "\n",
      "IPython has a set of predefined \u2018magic functions\u2019 that you can call with a command line style syntax. These include:\n",
      "\n",
      "* `%run`\n",
      "* `%edit`\n",
      "* `%debug`\n",
      "* `%timeit`\n",
      "* `%paste`\n",
      "* `%load_ext`\n",
      "\n",
      "For example, we can use `%load_ext` to load an extension to run R code within IPython:"
     ]
    },
    {
     "cell_type": "code",
     "input": [
      "%load_ext rmagic"
     ],
     "language": "python",
     "outputs": []
    },
    {
     "cell_type": "code",
     "input": [
      "x,y = arange(10), random.normal(size=10)"
     ],
     "language": "python",
     "outputs": []
    },
    {
     "cell_type": "code",
     "input": [
      "%%R -i x,y -o XYcoef\n",
      "lm.fit <- lm(y~x)\n",
      "par(mfrow=c(2,2))\n",
      "plot(lm.fit)\n",
      "XYcoef <- coef(lm.fit)"
     ],
     "language": "python",
     "outputs": []
    },
    {
     "cell_type": "code",
     "input": [
      "XYcoef"
     ],
     "language": "python",
     "outputs": []
    },
    {
     "cell_type": "markdown",
     "source": [
      "### Dirk's `Rcpp` benchmarks\n",
      "\n",
      "![Dirk](http://www.gravatar.com/avatar/4e96ca7ae02c37e7d940d17997d780e5?s=128&d=identicon&r=PG)"
     ]
    },
    {
     "cell_type": "code",
     "input": [
      "%%R\n",
      "library(compiler)\n",
      "library(rbenchmark)\n",
      "library(inline)\n",
      "library(RcppGSL)\n",
      "\n",
      "Rgibbs <- function(N,thin) {\n",
      "    mat <- matrix(0,ncol=2,nrow=N)\n",
      "    x <- 0\n",
      "    y <- 0\n",
      "    for (i in 1:N) {\n",
      "        for (j in 1:thin) {\n",
      "            x <- rgamma(1,3,y*y+4)\n",
      "            y <- rnorm(1,1/(x+1),1/sqrt(2*(x+1)))\n",
      "        }\n",
      "        mat[i,] <- c(x,y)\n",
      "    }\n",
      "    mat\n",
      "}\n",
      "\n",
      "\n",
      "RCgibbs <- cmpfun(Rgibbs)\n",
      "\n",
      "gibbscode <- '\n",
      "\n",
      "  // n and thin are SEXPs which the Rcpp::as function maps to C++ vars\n",
      "  int N   = as<int>(n);\n",
      "  int thn = as<int>(thin);\n",
      "\n",
      "  int i,j;\n",
      "  NumericMatrix mat(N, 2);\n",
      "\n",
      "  RNGScope scope;         // Initialize Random number generator\n",
      "\n",
      "  // The rest of the code follows the R version\n",
      "  double x=0, y=0;\n",
      "\n",
      "  for (i=0; i<N; i++) {\n",
      "    for (j=0; j<thn; j++) {\n",
      "      x = ::Rf_rgamma(3.0,1.0/(y*y+4));\n",
      "      y = ::Rf_rnorm(1.0/(x+1),1.0/sqrt(2*x+2));\n",
      "    }\n",
      "    mat(i,0) = x;\n",
      "    mat(i,1) = y;\n",
      "  }\n",
      "\n",
      "  return mat;             // Return to R\n",
      "'\n",
      "\n",
      "RcppGibbs <- cxxfunction(signature(n=\"int\", thin = \"int\"), gibbscode, plugin=\"Rcpp\")\n",
      "\n",
      "N <- 1000\n",
      "thn <- 10\n",
      "res <- benchmark(Rgibbs(N, thn), RCgibbs(N, thn), RcppGibbs(N, thn), order=\"relative\", replications=10)\n",
      "print(res)"
     ],
     "language": "python",
     "outputs": []
    },
    {
     "cell_type": "markdown",
     "source": [
      "## Pandas"
     ]
    },
    {
     "cell_type": "code",
     "input": [
      "from pandas import *\n",
      "df = DataFrame({'A' : ['one', 'one', 'two', 'three'] * 6,\n",
      "'B' : ['A', 'B', 'C'] * 8,\n",
      "'C' : ['foo', 'foo', 'foo', 'bar', 'bar', 'bar'] * 4,\n",
      "'D' : np.random.randn(24),\n",
      "'E' : np.random.randn(24)})\n",
      "\n",
      "df"
     ],
     "language": "python",
     "outputs": [
      {
       "html": [
        "<div style=\"max-height:1000px;max-width:1500px;overflow:auto;\">\n",
        "<table border=\"1\">\n",
        "  <thead>\n",
        "    <tr>\n",
        "      <th></th>\n",
        "      <th>A</th>\n",
        "      <th>B</th>\n",
        "      <th>C</th>\n",
        "      <th>D</th>\n",
        "      <th>E</th>\n",
        "    </tr>\n",
        "    </thead>\n",
        "    <tbody>\n",
        "    <tr>\n",
        "      <td><strong>0</strong></td>\n",
        "      <td>   one</td>\n",
        "      <td> A</td>\n",
        "      <td> foo</td>\n",
        "      <td>-1.051427</td>\n",
        "      <td> 0.254314</td>\n",
        "    </tr>\n",
        "    <tr>\n",
        "      <td><strong>1</strong></td>\n",
        "      <td>   one</td>\n",
        "      <td> B</td>\n",
        "      <td> foo</td>\n",
        "      <td> 1.503457</td>\n",
        "      <td> 1.151852</td>\n",
        "    </tr>\n",
        "    <tr>\n",
        "      <td><strong>2</strong></td>\n",
        "      <td>   two</td>\n",
        "      <td> C</td>\n",
        "      <td> foo</td>\n",
        "      <td> 0.988637</td>\n",
        "      <td> 0.693079</td>\n",
        "    </tr>\n",
        "    <tr>\n",
        "      <td><strong>3</strong></td>\n",
        "      <td> three</td>\n",
        "      <td> A</td>\n",
        "      <td> bar</td>\n",
        "      <td> 0.335456</td>\n",
        "      <td>-0.543860</td>\n",
        "    </tr>\n",
        "    <tr>\n",
        "      <td><strong>4</strong></td>\n",
        "      <td>   one</td>\n",
        "      <td> B</td>\n",
        "      <td> bar</td>\n",
        "      <td> 0.284873</td>\n",
        "      <td>-0.338013</td>\n",
        "    </tr>\n",
        "    <tr>\n",
        "      <td><strong>5</strong></td>\n",
        "      <td>   one</td>\n",
        "      <td> C</td>\n",
        "      <td> bar</td>\n",
        "      <td> 1.531078</td>\n",
        "      <td>-1.924662</td>\n",
        "    </tr>\n",
        "    <tr>\n",
        "      <td><strong>6</strong></td>\n",
        "      <td>   two</td>\n",
        "      <td> A</td>\n",
        "      <td> foo</td>\n",
        "      <td> 1.159298</td>\n",
        "      <td>-0.333585</td>\n",
        "    </tr>\n",
        "    <tr>\n",
        "      <td><strong>7</strong></td>\n",
        "      <td> three</td>\n",
        "      <td> B</td>\n",
        "      <td> foo</td>\n",
        "      <td> 0.497973</td>\n",
        "      <td>-0.429690</td>\n",
        "    </tr>\n",
        "    <tr>\n",
        "      <td><strong>8</strong></td>\n",
        "      <td>   one</td>\n",
        "      <td> C</td>\n",
        "      <td> foo</td>\n",
        "      <td> 2.145847</td>\n",
        "      <td>-0.039489</td>\n",
        "    </tr>\n",
        "    <tr>\n",
        "      <td><strong>9</strong></td>\n",
        "      <td>   one</td>\n",
        "      <td> A</td>\n",
        "      <td> bar</td>\n",
        "      <td>-0.749432</td>\n",
        "      <td>-0.631028</td>\n",
        "    </tr>\n",
        "    <tr>\n",
        "      <td><strong>10</strong></td>\n",
        "      <td>   two</td>\n",
        "      <td> B</td>\n",
        "      <td> bar</td>\n",
        "      <td>-1.049546</td>\n",
        "      <td>-0.003317</td>\n",
        "    </tr>\n",
        "    <tr>\n",
        "      <td><strong>11</strong></td>\n",
        "      <td> three</td>\n",
        "      <td> C</td>\n",
        "      <td> bar</td>\n",
        "      <td>-0.096296</td>\n",
        "      <td>-1.714607</td>\n",
        "    </tr>\n",
        "    <tr>\n",
        "      <td><strong>12</strong></td>\n",
        "      <td>   one</td>\n",
        "      <td> A</td>\n",
        "      <td> foo</td>\n",
        "      <td> 0.743324</td>\n",
        "      <td> 0.256189</td>\n",
        "    </tr>\n",
        "    <tr>\n",
        "      <td><strong>13</strong></td>\n",
        "      <td>   one</td>\n",
        "      <td> B</td>\n",
        "      <td> foo</td>\n",
        "      <td> 0.997515</td>\n",
        "      <td>-0.037473</td>\n",
        "    </tr>\n",
        "    <tr>\n",
        "      <td><strong>14</strong></td>\n",
        "      <td>   two</td>\n",
        "      <td> C</td>\n",
        "      <td> foo</td>\n",
        "      <td> 0.757127</td>\n",
        "      <td> 0.441088</td>\n",
        "    </tr>\n",
        "    <tr>\n",
        "      <td><strong>15</strong></td>\n",
        "      <td> three</td>\n",
        "      <td> A</td>\n",
        "      <td> bar</td>\n",
        "      <td> 0.174934</td>\n",
        "      <td>-0.376797</td>\n",
        "    </tr>\n",
        "    <tr>\n",
        "      <td><strong>16</strong></td>\n",
        "      <td>   one</td>\n",
        "      <td> B</td>\n",
        "      <td> bar</td>\n",
        "      <td> 0.115880</td>\n",
        "      <td>-0.281772</td>\n",
        "    </tr>\n",
        "    <tr>\n",
        "      <td><strong>17</strong></td>\n",
        "      <td>   one</td>\n",
        "      <td> C</td>\n",
        "      <td> bar</td>\n",
        "      <td>-1.827235</td>\n",
        "      <td>-0.123957</td>\n",
        "    </tr>\n",
        "    <tr>\n",
        "      <td><strong>18</strong></td>\n",
        "      <td>   two</td>\n",
        "      <td> A</td>\n",
        "      <td> foo</td>\n",
        "      <td>-0.806989</td>\n",
        "      <td>-1.844529</td>\n",
        "    </tr>\n",
        "    <tr>\n",
        "      <td><strong>19</strong></td>\n",
        "      <td> three</td>\n",
        "      <td> B</td>\n",
        "      <td> foo</td>\n",
        "      <td> 0.683608</td>\n",
        "      <td> 2.154853</td>\n",
        "    </tr>\n",
        "    <tr>\n",
        "      <td><strong>20</strong></td>\n",
        "      <td>   one</td>\n",
        "      <td> C</td>\n",
        "      <td> foo</td>\n",
        "      <td> 1.631047</td>\n",
        "      <td>-1.393717</td>\n",
        "    </tr>\n",
        "    <tr>\n",
        "      <td><strong>21</strong></td>\n",
        "      <td>   one</td>\n",
        "      <td> A</td>\n",
        "      <td> bar</td>\n",
        "      <td> 0.143271</td>\n",
        "      <td> 0.143075</td>\n",
        "    </tr>\n",
        "    <tr>\n",
        "      <td><strong>22</strong></td>\n",
        "      <td>   two</td>\n",
        "      <td> B</td>\n",
        "      <td> bar</td>\n",
        "      <td>-0.144737</td>\n",
        "      <td>-0.110889</td>\n",
        "    </tr>\n",
        "    <tr>\n",
        "      <td><strong>23</strong></td>\n",
        "      <td> three</td>\n",
        "      <td> C</td>\n",
        "      <td> bar</td>\n",
        "      <td> 0.575157</td>\n",
        "      <td> 0.142873</td>\n",
        "    </tr>\n",
        "  </tbody>\n",
        "</table>\n",
        "</div>"
       ],
       "output_type": "pyout",
       "prompt_number": 51,
       "text": [
        "        A  B    C         D         E\n",
        "0     one  A  foo -1.051427  0.254314\n",
        "1     one  B  foo  1.503457  1.151852\n",
        "2     two  C  foo  0.988637  0.693079\n",
        "3   three  A  bar  0.335456 -0.543860\n",
        "4     one  B  bar  0.284873 -0.338013\n",
        "5     one  C  bar  1.531078 -1.924662\n",
        "6     two  A  foo  1.159298 -0.333585\n",
        "7   three  B  foo  0.497973 -0.429690\n",
        "8     one  C  foo  2.145847 -0.039489\n",
        "9     one  A  bar -0.749432 -0.631028\n",
        "10    two  B  bar -1.049546 -0.003317\n",
        "11  three  C  bar -0.096296 -1.714607\n",
        "12    one  A  foo  0.743324  0.256189\n",
        "13    one  B  foo  0.997515 -0.037473\n",
        "14    two  C  foo  0.757127  0.441088\n",
        "15  three  A  bar  0.174934 -0.376797\n",
        "16    one  B  bar  0.115880 -0.281772\n",
        "17    one  C  bar -1.827235 -0.123957\n",
        "18    two  A  foo -0.806989 -1.844529\n",
        "19  three  B  foo  0.683608  2.154853\n",
        "20    one  C  foo  1.631047 -1.393717\n",
        "21    one  A  bar  0.143271  0.143075\n",
        "22    two  B  bar -0.144737 -0.110889\n",
        "23  three  C  bar  0.575157  0.142873"
       ]
      }
     ],
     "prompt_number": 51
    },
    {
     "cell_type": "code",
     "input": [
      "pivot_table(df, values='D', rows=['A', 'B'], cols=['C'])"
     ],
     "language": "python",
     "outputs": [
      {
       "html": [
        "<div style=\"max-height:1000px;max-width:1500px;overflow:auto;\">\n",
        "<table border=\"1\">\n",
        "  <thead>\n",
        "    <tr>\n",
        "      <th></th>\n",
        "      <th>C</th>\n",
        "      <th>bar</th>\n",
        "      <th>foo</th>\n",
        "    </tr>\n",
        "    <tr>\n",
        "      <th>A</th>\n",
        "      <th>B</th>\n",
        "      <th></th>\n",
        "      <th></th>\n",
        "    </tr>\n",
        "    </thead>\n",
        "    <tbody>\n",
        "    <tr>\n",
        "      <td><strong>one</strong></td>\n",
        "      <td><strong>A</strong></td>\n",
        "      <td>-0.303080</td>\n",
        "      <td>-0.154051</td>\n",
        "    </tr>\n",
        "    <tr>\n",
        "      <td><strong>one</strong></td>\n",
        "      <td><strong>B</strong></td>\n",
        "      <td> 0.200376</td>\n",
        "      <td> 1.250486</td>\n",
        "    </tr>\n",
        "    <tr>\n",
        "      <td><strong>one</strong></td>\n",
        "      <td><strong>C</strong></td>\n",
        "      <td>-0.148078</td>\n",
        "      <td> 1.888447</td>\n",
        "    </tr>\n",
        "    <tr>\n",
        "      <td><strong>three</strong></td>\n",
        "      <td><strong>A</strong></td>\n",
        "      <td> 0.255195</td>\n",
        "      <td>      NaN</td>\n",
        "    </tr>\n",
        "    <tr>\n",
        "      <td><strong>three</strong></td>\n",
        "      <td><strong>B</strong></td>\n",
        "      <td>      NaN</td>\n",
        "      <td> 0.590791</td>\n",
        "    </tr>\n",
        "    <tr>\n",
        "      <td><strong>three</strong></td>\n",
        "      <td><strong>C</strong></td>\n",
        "      <td> 0.239431</td>\n",
        "      <td>      NaN</td>\n",
        "    </tr>\n",
        "    <tr>\n",
        "      <td><strong>two</strong></td>\n",
        "      <td><strong>A</strong></td>\n",
        "      <td>      NaN</td>\n",
        "      <td> 0.176155</td>\n",
        "    </tr>\n",
        "    <tr>\n",
        "      <td><strong>two</strong></td>\n",
        "      <td><strong>B</strong></td>\n",
        "      <td>-0.597141</td>\n",
        "      <td>      NaN</td>\n",
        "    </tr>\n",
        "    <tr>\n",
        "      <td><strong>two</strong></td>\n",
        "      <td><strong>C</strong></td>\n",
        "      <td>      NaN</td>\n",
        "      <td> 0.872882</td>\n",
        "    </tr>\n",
        "  </tbody>\n",
        "</table>\n",
        "</div>"
       ],
       "output_type": "pyout",
       "prompt_number": 54,
       "text": [
        "C             bar       foo\n",
        "A     B                    \n",
        "one   A -0.303080 -0.154051\n",
        "      B  0.200376  1.250486\n",
        "      C -0.148078  1.888447\n",
        "three A  0.255195       NaN\n",
        "      B       NaN  0.590791\n",
        "      C  0.239431       NaN\n",
        "two   A       NaN  0.176155\n",
        "      B -0.597141       NaN\n",
        "      C       NaN  0.872882"
       ]
      }
     ],
     "prompt_number": 54
    },
    {
     "cell_type": "markdown",
     "source": [
      "## Statsmodels"
     ]
    },
    {
     "cell_type": "code",
     "input": [
      "import statsmodels.api as sm\n",
      "data = sm.datasets.scotland.load()\n",
      "data.exog = sm.add_constant(data.exog)"
     ],
     "language": "python",
     "outputs": [],
     "prompt_number": 45
    },
    {
     "cell_type": "code",
     "input": [
      "gamma_model = sm.GLM(data.endog, data.exog, family=sm.families.Gamma())\n",
      "gamma_results = gamma_model.fit()\n",
      "gamma_results.summary()"
     ],
     "language": "python",
     "outputs": [
      {
       "html": [
        "<table class=\"simpletable\">\n",
        "<caption>Generalized Linear Model Regression Results</caption>\n",
        "<tr>\n",
        "  <th>Dep. Variable:</th>          <td>y</td>        <th>  No. Observations:  </th>      <td>    32</td>     \n",
        "</tr>\n",
        "<tr>\n",
        "  <th>Model:</th>                 <td>GLM</td>       <th>  Df Residuals:      </th>      <td>    24</td>     \n",
        "</tr>\n",
        "<tr>\n",
        "  <th>Model Family:</th>         <td>Gamma</td>      <th>  Df Model:          </th>      <td>     7</td>     \n",
        "</tr>\n",
        "<tr>\n",
        "  <th>Link Function:</th>    <td>inverse_power</td>  <th>  Scale:             </th> <td>0.00358428317349</td>\n",
        "</tr>\n",
        "<tr>\n",
        "  <th>Method:</th>               <td>IRLS</td>       <th>  Log-Likelihood:    </th>     <td> -83.017</td>    \n",
        "</tr>\n",
        "<tr>\n",
        "  <th>Date:</th>           <td>Tue, 12 Jun 2012</td> <th>  Deviance:          </th>     <td>0.087389</td>    \n",
        "</tr>\n",
        "<tr>\n",
        "  <th>Time:</th>               <td>20:47:21</td>     <th>  Pearson chi2:      </th>      <td>0.0860</td>     \n",
        "</tr>\n",
        "<tr>\n",
        "  <th>No. Iterations:</th>         <td>5</td>        <th>                     </th>         <td> </td>       \n",
        "</tr>\n",
        "</table>\n",
        "<table class=\"simpletable\">\n",
        "<tr>\n",
        "    <td></td>       <th>coef</th>     <th>std err</th>      <th>t</th>      <th>P>|t|</th> <th>[95.0% Conf. Int.]</th> \n",
        "</tr>\n",
        "<tr>\n",
        "  <th>x1</th>    <td> 4.962e-05</td> <td> 1.62e-05</td> <td>    3.060</td> <td> 0.005</td> <td> 1.78e-05  8.14e-05</td>\n",
        "</tr>\n",
        "<tr>\n",
        "  <th>x2</th>    <td>    0.0020</td> <td>    0.001</td> <td>    3.824</td> <td> 0.001</td> <td>    0.001     0.003</td>\n",
        "</tr>\n",
        "<tr>\n",
        "  <th>x3</th>    <td>-7.181e-05</td> <td> 2.71e-05</td> <td>   -2.648</td> <td> 0.014</td> <td>   -0.000 -1.87e-05</td>\n",
        "</tr>\n",
        "<tr>\n",
        "  <th>x4</th>    <td>    0.0001</td> <td> 4.06e-05</td> <td>    2.757</td> <td> 0.011</td> <td> 3.23e-05     0.000</td>\n",
        "</tr>\n",
        "<tr>\n",
        "  <th>x5</th>    <td>-1.468e-07</td> <td> 1.24e-07</td> <td>   -1.187</td> <td> 0.247</td> <td>-3.89e-07  9.56e-08</td>\n",
        "</tr>\n",
        "<tr>\n",
        "  <th>x6</th>    <td>   -0.0005</td> <td>    0.000</td> <td>   -2.159</td> <td> 0.041</td> <td>   -0.001 -4.78e-05</td>\n",
        "</tr>\n",
        "<tr>\n",
        "  <th>x7</th>    <td>-2.427e-06</td> <td> 7.46e-07</td> <td>   -3.253</td> <td> 0.003</td> <td>-3.89e-06 -9.65e-07</td>\n",
        "</tr>\n",
        "<tr>\n",
        "  <th>const</th> <td>   -0.0178</td> <td>    0.011</td> <td>   -1.548</td> <td> 0.135</td> <td>   -0.040     0.005</td>\n",
        "</tr>\n",
        "</table>"
       ],
       "output_type": "pyout",
       "prompt_number": 46,
       "text": [
        "<class 'statsmodels.iolib.summary.Summary'>\n",
        "\"\"\"\n",
        "                 Generalized Linear Model Regression Results                  \n",
        "==============================================================================\n",
        "Dep. Variable:                      y   No. Observations:                   32\n",
        "Model:                            GLM   Df Residuals:                       24\n",
        "Model Family:                   Gamma   Df Model:                            7\n",
        "Link Function:          inverse_power   Scale:                0.00358428317349\n",
        "Method:                          IRLS   Log-Likelihood:                -83.017\n",
        "Date:                Tue, 12 Jun 2012   Deviance:                     0.087389\n",
        "Time:                        20:47:21   Pearson chi2:                   0.0860\n",
        "No. Iterations:                     5                                         \n",
        "==============================================================================\n",
        "                 coef    std err          t      P>|t|      [95.0% Conf. Int.]\n",
        "------------------------------------------------------------------------------\n",
        "x1          4.962e-05   1.62e-05      3.060      0.005      1.78e-05  8.14e-05\n",
        "x2             0.0020      0.001      3.824      0.001         0.001     0.003\n",
        "x3         -7.181e-05   2.71e-05     -2.648      0.014        -0.000 -1.87e-05\n",
        "x4             0.0001   4.06e-05      2.757      0.011      3.23e-05     0.000\n",
        "x5         -1.468e-07   1.24e-07     -1.187      0.247     -3.89e-07  9.56e-08\n",
        "x6            -0.0005      0.000     -2.159      0.041        -0.001 -4.78e-05\n",
        "x7         -2.427e-06   7.46e-07     -3.253      0.003     -3.89e-06 -9.65e-07\n",
        "const         -0.0178      0.011     -1.548      0.135        -0.040     0.005\n",
        "==============================================================================\n",
        "\"\"\""
       ]
      }
     ],
     "prompt_number": 46
    },
    {
     "cell_type": "markdown",
     "source": [
      "## Cython and f2py"
     ]
    },
    {
     "cell_type": "markdown",
     "source": [
      "\t      SUBROUTINE bernoulli(x,p,nx,np,like)\n",
      "\n",
      "\tcf2py logical dimension(nx),intent(in) :: x\n",
      "\tcf2py double precision dimension(np),intent(in) :: p\n",
      "\tcf2py integer intent(hide),depend(x) :: nx=len(x)\n",
      "\tcf2py integer intent(hide),depend(p),check(len(p)==1 || len(p)==len(x)):: np=len(p)\n",
      "\tcf2py double precision intent(out) :: like\n",
      "\tcf2py threadsafe\n",
      "\n",
      "\t      IMPLICIT NONE\n",
      "\n",
      "\t      INTEGER np,nx,i\n",
      "\t      DOUBLE PRECISION p(np), ptmp, like\n",
      "\t      LOGICAL x(nx)\n",
      "\t      LOGICAL not_scalar_p\n",
      "\t      DOUBLE PRECISION infinity\n",
      "\t      PARAMETER (infinity = 1.7976931348623157d308)\n",
      "\n",
      "\tC     Check parameter size\n",
      "\t      not_scalar_p = (np .NE. 1)\n",
      "\n",
      "\t      like = 0.0\n",
      "\t      ptmp = p(1)\n",
      "\t      do i=1,nx\n",
      "\t        if (not_scalar_p) ptmp = p(i)\n",
      "\t        if (ptmp .LT. 0.0) then\n",
      "\t          like = -infinity\n",
      "\t          RETURN\n",
      "\t        endif\n",
      "\n",
      "\t        if (x(i)) then\n",
      "\t          like = like + dlog(ptmp)\n",
      "\t        else\n",
      "\t          like = like + dlog(1.0D0 - ptmp)\n",
      "\t        endif\n",
      "\n",
      "\t      enddo\n",
      "\t      return\n",
      "\t      END\n"
     ]
    },
    {
     "cell_type": "code",
     "input": [
      "from pymc.flib import bernoulli\n",
      "bernoulli([1,0,1], 0.3)"
     ],
     "language": "python",
     "outputs": [
      {
       "output_type": "pyout",
       "prompt_number": 49,
       "text": [
        "-2.7646205525906047"
       ]
      }
     ],
     "prompt_number": 49
    },
    {
     "cell_type": "heading",
     "level": 2,
     "source": [
      "Benchmark example: Gibbs sampling"
     ]
    },
    {
     "cell_type": "markdown",
     "source": [
      "Gibbs sampler for function:\n",
      "\n",
      "$$f(x,y) = x x^2 \\exp(-xy^2 - y^2 + 2y - 4x)$$\n",
      "\n",
      "using conditional distributions:\n",
      "    \n",
      "$$x|y \\sim Gamma(3, y^2 +4)$$\n",
      "$$y|x \\sim Normal(\\frac{1}{1+x}, \\frac{1}{2(1+x)})$$"
     ]
    },
    {
     "cell_type": "code",
     "input": [
      "from numpy import zeros, random, sqrt\n",
      "gamma = random.gamma\n",
      "normal = random.normal\n",
      "\n",
      "def pygibbs(N=20000, thin=200):\n",
      "    mat = zeros((N,2))\n",
      "    x,y = mat[0]\n",
      "    for i in range(N):\n",
      "        for j in range(thin):\n",
      "            x = gamma(3, y**2 + 4)\n",
      "            y = normal(1./(x+1), 1./sqrt(2*(x+1)))\n",
      "        mat[i] = x,y\n",
      "\n",
      "    return mat"
     ],
     "language": "python",
     "outputs": []
    },
    {
     "cell_type": "code",
     "input": [
      "timeit pygibbs(1000, 10)"
     ],
     "language": "python",
     "outputs": []
    },
    {
     "cell_type": "code",
     "input": [
      "%load_ext cythonmagic"
     ],
     "language": "python",
     "outputs": []
    },
    {
     "cell_type": "code",
     "input": [
      "%%cython -lm -lgsl -lgslcblas\n",
      "\n",
      "cimport cython\n",
      "import numpy as np\n",
      "from numpy cimport *\n",
      "\n",
      "cdef extern from \"math.h\":\n",
      "    double sqrt(double) \n",
      "  \n",
      "cdef extern from \"gsl/gsl_rng.h\":\n",
      "    ctypedef struct gsl_rng_type\n",
      "    ctypedef struct gsl_rng\n",
      "\n",
      "    gsl_rng_type *gsl_rng_mt19937\n",
      "    gsl_rng *gsl_rng_alloc(gsl_rng_type * T) nogil\n",
      "  \n",
      "cdef extern from \"gsl/gsl_randist.h\":\n",
      "    double gamma \"gsl_ran_gamma\"(gsl_rng * r,double,double)\n",
      "    double gaussian \"gsl_ran_gaussian\"(gsl_rng * r,double)\n",
      "  \n",
      "cdef gsl_rng *r = gsl_rng_alloc(gsl_rng_mt19937)\n",
      "\n",
      "@cython.wraparound(False)\n",
      "@cython.boundscheck(False)\n",
      "def gibbs(int N=20000,int thin=500):\n",
      "    cdef: \n",
      "        double x=0\n",
      "        double y=0\n",
      "        int i, j\n",
      "        ndarray[float64_t, ndim=2] samples\n",
      "\n",
      "    samples = np.empty((N,thin))\n",
      "    for i from 0 <= i < N:\n",
      "        for j from 0 <= j < thin:\n",
      "            x = gamma(r,3,1.0/(y*y+4))\n",
      "            y = gaussian(r,1.0/sqrt(x+1))\n",
      "        samples[i,0] = x\n",
      "        samples[i,1] = y\n",
      "    return samples"
     ],
     "language": "python",
     "outputs": []
    },
    {
     "cell_type": "code",
     "input": [
      "timeit gibbs(1000, 10)"
     ],
     "language": "python",
     "outputs": []
    },
    {
     "cell_type": "heading",
     "level": 2,
     "source": [
      "Cython parallel"
     ]
    },
    {
     "cell_type": "markdown",
     "source": [
      "Before running the next cell, make sure you have first started your cluster, you can use the [clusters tab in the dashboard](/#tab2) to do so.  Because this example transfers lots of large arrays, we recommend that you first configure your cluster to use the 'NoDB' hub messaging support, which removes a few features but has the lowest memory footprint.  You can do so by putting in your IPython profile directory a file called `ipcontroller_config.py` that contains simply:\n",
      "\n",
      "    # Configuration file for ipcontroller.\n",
      "    c = get_config()\n",
      "    # The class to use for the DB backend\n",
      "    c.HubFactory.db_class = 'IPython.parallel.controller.dictdb.NoDB'\n",
      "\n",
      "See [the IPython docs](http://ipython.org/ipython-doc/dev/parallel/parallel_db.html?#cost) for further details."
     ]
    },
    {
     "cell_type": "code",
     "input": [
      "from IPython.parallel import Client\n",
      "rc = Client()\n",
      "dv = rc[:]\n",
      "dv.block = True\n",
      "dv.activate()"
     ],
     "language": "python",
     "outputs": []
    },
    {
     "cell_type": "markdown",
     "source": [
      "Now, we load the cython magic on all engines and execute the cython magic as well on all engines:"
     ]
    },
    {
     "cell_type": "code",
     "input": [
      "%px %load_ext cythonmagic"
     ],
     "language": "python",
     "outputs": []
    },
    {
     "cell_type": "code",
     "input": [
      "%%px\n",
      "%%cython -lm -lgsl -lgslcblas\n",
      "\n",
      "cimport cython\n",
      "import numpy as np\n",
      "from numpy cimport *\n",
      "\n",
      "cdef extern from \"math.h\":\n",
      "    double sqrt(double) \n",
      "  \n",
      "cdef extern from \"gsl/gsl_rng.h\":\n",
      "    ctypedef struct gsl_rng_type\n",
      "    ctypedef struct gsl_rng\n",
      "\n",
      "    gsl_rng_type *gsl_rng_mt19937\n",
      "    gsl_rng *gsl_rng_alloc(gsl_rng_type * T) nogil\n",
      "  \n",
      "cdef extern from \"gsl/gsl_randist.h\":\n",
      "    double gamma \"gsl_ran_gamma\"(gsl_rng * r,double,double)\n",
      "    double gaussian \"gsl_ran_gaussian\"(gsl_rng * r,double)\n",
      "  \n",
      "cdef gsl_rng *r = gsl_rng_alloc(gsl_rng_mt19937)\n",
      "\n",
      "@cython.wraparound(False)\n",
      "@cython.boundscheck(False)\n",
      "def gibbs(int N=20000,int thin=500):\n",
      "    cdef: \n",
      "        double x=0\n",
      "        double y=0\n",
      "        int i, j\n",
      "        ndarray[float64_t, ndim=2] samples\n",
      "\n",
      "    samples = np.empty((N,thin))\n",
      "    for i from 0 <= i < N:\n",
      "        for j from 0 <= j < thin:\n",
      "            x = gamma(r,3,1.0/(y*y+4))\n",
      "            y = gaussian(r,1.0/sqrt(x+1))\n",
      "        samples[i,0] = x\n",
      "        samples[i,1] = y\n",
      "    return samples"
     ],
     "language": "python",
     "outputs": []
    },
    {
     "cell_type": "markdown",
     "source": [
      "Divide the array by the number of nodes.  In this case they divide evenly, a more general partitioning of sizes is easy to do as well."
     ]
    },
    {
     "cell_type": "code",
     "input": [
      "N = 1000\n",
      "thin = 10\n",
      "n = N/len(rc.ids)\n",
      "dv.push(dict(n=n, thin=thin))\n",
      "# Let's just confirm visually we got what we expect\n",
      "dv['n']"
     ],
     "language": "python",
     "outputs": []
    },
    {
     "cell_type": "markdown",
     "source": [
      "We can time purely the execution of the gibbs sampler on the remote nodes"
     ]
    },
    {
     "cell_type": "code",
     "input": [
      "%%timeit\n",
      "dv.execute('gibbs(n, thin)')"
     ],
     "language": "python",
     "outputs": []
    },
    {
     "cell_type": "markdown",
     "source": [
      "But a more realistic (and costly) benchmark must also include the cost of bringing the results back from the cluster engines to our local namespace.  For that, we assign the call to the variable `a` on each node and then use the view's `gather` method to pull them back in:"
     ]
    },
    {
     "cell_type": "code",
     "input": [
      "%%timeit\n",
      "dv.execute('a = gibbs(n, thin)')\n",
      "a = dv.gather('a')"
     ],
     "language": "python",
     "outputs": []
    },
    {
     "cell_type": "markdown",
     "source": [
      "First, let's confirm the returned `a` has the shape we expect:"
     ]
    },
    {
     "cell_type": "code",
     "input": [
      "a"
     ],
     "language": "python",
     "outputs": []
    },
    {
     "cell_type": "code",
     "input": [
      "%%timeit\n",
      "dv.execute('a = [gibbs(20000, 200) for _ in range(10)]')\n",
      "a = dv.gather('a')"
     ],
     "language": "python",
     "outputs": []
    },
    {
     "cell_type": "markdown",
     "source": [
      "Here we see how on a 4-core machine we get close to a 4-fold speedup on pure execution, but once we have to pay the price of communicating the results back to the local engine, the benefit is less.  In a real parallel application, much of the art of optimization comes in trying to keep the movement of large amounts of data to a minimum, as communication is always *much* more expensive than computation in today's architectures."
     ]
    },
    {
     "cell_type": "markdown",
     "source": [
      "## Gibbs Sampler Shootout\n",
      "\n",
      "Timed on a 11\" MacBook Air (1.8 GHz Intel Core i7)\n",
      "\n",
      "* Python 2.7.1, Cython 0.16\n",
      "* Julia 0.0.0\n",
      "* R 2.14.1, Rcpp 0.9.10\n",
      "\n",
      "Elapsed time for 10 replications of the Gibbs sampler code run for 4 million iterations."
     ]
    },
    {
     "cell_type": "markdown",
     "source": [
      "<TABLE cellpadding=\"4\" style=\"border: 1px solid #000000; border-collapse: collapse;\" border=\"1\"> <TR>  <TH>model</TH>  <TH>elapsed</TH>  <TH>relative</TH> </TR> <TR bgcolor=\"#FFFF00\">  <TD>Julia distributed</TD>  <TD>3.38</TD>  <TD>1.0</TD> </TR> <TR>  <TD>GSLGibbs</TD>  <TD>5.46</TD>  <TD>1.6</TD> </TR> <TR bgcolor=\"#00FFFF\">  <TD>Cython</TD>  <TD>5.58</TD>  <TD>1.7</TD> </TR> <TR bgcolor=\"#FFFF00\">  <TD>Julia native RNG</TD>  <TD>7.03</TD>  <TD>2.1</TD> </TR> <TR>  <TD>RcppGibbs</TD>  <TD>9.95</TD>  <TD>2.9</TD> </TR> <TR>  <TD>BoostGibbs</TD>  <TD>10.65</TD>  <TD>3.2</TD> </TR> <TR bgcolor=\"#FFFF00\">  <TD>Julia libRMath</TD>  <TD>17.27</TD>  <TD>5.1</TD> </TR> <TR bgcolor=\"#00FFFF\">  <TD>Pure Python</TD>  <TD>278.51</TD>  <TD>82.4</TD> </TR> <TR>  <TD>RCgibbs</TD>  <TD>328.56</TD>  <TD>97.2</TD> </TR> <TR>  <TD>Rgibbs</TD>  <TD>419.87</TD>  <TD>124.2</TD> </TR></TABLE>"
     ]
    },
    {
     "cell_type": "code",
     "input": [],
     "language": "python",
     "outputs": []
    }
   ]
  }
 ]
}