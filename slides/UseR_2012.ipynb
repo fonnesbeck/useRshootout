{
 "metadata": {
  "name": "UseR_2012"
 },
 "nbformat": 3,
 "worksheets": [
  {
   "cells": [
    {
     "cell_type": "markdown",
     "source": [
      "# Python for R Programmers\n",
      "\n",
      "![Python logo](http://python.org/images/python-logo.gif)\n",
      "\n",
      "### Christopher Fonnesbeck\n",
      "### Vanderbilt University\n",
      "#### 14 June, 2012\n"
     ]
    },
    {
     "cell_type": "markdown",
     "source": [
      "## What is Python?\n",
      "\n",
      "Python is a **dynamic**, **interpreted** programming language that is **flexible** enough to be used for a variety of tasks, from scripts to mission-critical applications. It currently has a very strong presence in **scientific computing**. Despite being an easy-to-use, high-level language, it is also capable of achieving very high performance."
     ]
    },
    {
     "cell_type": "markdown",
     "source": [
      "**Runnable pseudocode**: Python's syntax is readable and clear."
     ]
    },
    {
     "cell_type": "code",
     "input": [
      "from numpy import zeros, random, sqrt\n",
      "gamma = random.gamma\n",
      "normal = random.normal\n",
      "\n",
      "def pygibbs(N=20000, thin=200):\n",
      "    mat = zeros((N,2))\n",
      "    x,y = mat[0]\n",
      "    for i in range(N):\n",
      "        for j in range(thin):\n",
      "            x = gamma(3, y**2 + 4)\n",
      "            y = normal(1./(x+1), 1./sqrt(2*(x+1)))\n",
      "        mat[i] = x,y\n",
      "\n",
      "    return mat"
     ],
     "language": "python",
     "outputs": [],
     "prompt_number": 1
    },
    {
     "cell_type": "markdown",
     "source": [
      "Python objects are **dynamically referenced**"
     ]
    },
    {
     "cell_type": "code",
     "input": [
      "y = 5\n",
      "y = 'foo'\n",
      "x = y = [1, 2, 3]\n",
      "y[0] = -9\n",
      "x"
     ],
     "language": "python",
     "outputs": [
      {
       "output_type": "pyout",
       "prompt_number": 2,
       "text": [
        "[-9, 2, 3]"
       ]
      }
     ],
     "prompt_number": 2
    },
    {
     "cell_type": "markdown",
     "source": [
      "... but **strongly typed**!"
     ]
    },
    {
     "cell_type": "code",
     "input": [
      "'5' + 6"
     ],
     "language": "python",
     "outputs": [
      {
       "ename": "TypeError",
       "evalue": "cannot concatenate 'str' and 'int' objects",
       "output_type": "pyerr",
       "traceback": [
        "\u001b[0;31m---------------------------------------------------------------------------\u001b[0m\n\u001b[0;31mTypeError\u001b[0m                                 Traceback (most recent call last)",
        "\u001b[0;32m<ipython-input-3-cfde8aeadc63>\u001b[0m in \u001b[0;36m<module>\u001b[0;34m()\u001b[0m\n\u001b[0;32m----> 1\u001b[0;31m \u001b[0;34m'5'\u001b[0m \u001b[0;34m+\u001b[0m \u001b[0;36m6\u001b[0m\u001b[0;34m\u001b[0m\u001b[0m\n\u001b[0m",
        "\u001b[0;31mTypeError\u001b[0m: cannot concatenate 'str' and 'int' objects"
       ]
      }
     ],
     "prompt_number": 3
    },
    {
     "cell_type": "markdown",
     "source": [
      "### Python is \"batteries-included\"\n",
      "\n",
      "Includes a broad selection of general-purpose libraries."
     ]
    },
    {
     "cell_type": "code",
     "input": [
      "from IPython.core.display import HTML\n",
      "HTML('<iframe src=http://docs.python.org/modindex.html width=700 height=350>')"
     ],
     "language": "python",
     "outputs": [
      {
       "html": [
        "<iframe src=http://docs.python.org/modindex.html width=700 height=350>"
       ],
       "output_type": "pyout",
       "prompt_number": 4,
       "text": [
        "<IPython.core.display.HTML at 0x107de52d0>"
       ]
      }
     ],
     "prompt_number": 4
    },
    {
     "cell_type": "markdown",
     "source": [
      "## NumPy and SciPy\n",
      "\n",
      "NumPy and SciPy are fundamental scientific modules for Python.\n",
      "\n",
      "In particular, **NumPy** provides:\n",
      "\n",
      "* fast, efficient mulitidimensional array data structure: `ndarray`\n",
      "* functions for operating on arrays\n",
      "* tools for integrating code from compiled languages\n",
      "* RNGs, linear algebra functions, Fourier transform\n",
      "\n",
      "**SciPy** provides a large suite of standard scientific computing:\n",
      "\n",
      "* statistical distribtuion classes\n",
      "* sparse matrices\n",
      "* signal processing\n",
      "* optimizers\n",
      "* numerical integration and DE solvers\n",
      "* additional linear algebra tools\n",
      "\n",
      "$$\\text{NumPy} + \\text{SciPy} \\approx \\text{MATLAB}$$"
     ]
    },
    {
     "cell_type": "code",
     "input": [
      "# Calculate second difference matrix\n",
      "import numpy as np\n",
      "\n",
      "I2 = -2*np.eye(8)\n",
      "E = np.diag(np.ones(7), k=-1)\n",
      "I2 + E + E.T"
     ],
     "language": "python",
     "outputs": [
      {
       "output_type": "pyout",
       "prompt_number": 5,
       "text": [
        "array([[-2.,  1.,  0.,  0.,  0.,  0.,  0.,  0.],\n",
        "       [ 1., -2.,  1.,  0.,  0.,  0.,  0.,  0.],\n",
        "       [ 0.,  1., -2.,  1.,  0.,  0.,  0.,  0.],\n",
        "       [ 0.,  0.,  1., -2.,  1.,  0.,  0.,  0.],\n",
        "       [ 0.,  0.,  0.,  1., -2.,  1.,  0.,  0.],\n",
        "       [ 0.,  0.,  0.,  0.,  1., -2.,  1.,  0.],\n",
        "       [ 0.,  0.,  0.,  0.,  0.,  1., -2.,  1.],\n",
        "       [ 0.,  0.,  0.,  0.,  0.,  0.,  1., -2.]])"
       ]
      }
     ],
     "prompt_number": 5
    },
    {
     "cell_type": "code",
     "input": [
      "from scipy import linalg\n",
      "\n",
      "def lse(A, b, B, d, cond=None):\n",
      "    \"\"\"\n",
      "    Equality-contrained least squares.\n",
      "    \n",
      "    The following algorithm minimizes ||Ax - b|| subject to the\n",
      "    constrain Bx = d.\n",
      "    \"\"\"\n",
      "    \n",
      "    A, b, B, d = map(np.asanyarray, (A, b, B, d))\n",
      "    p = B.shape[0]\n",
      "    \n",
      "    # QR decomposition of constraint matrix B\n",
      "    Q, R = linalg.qr(B.T)\n",
      "    \n",
      "    # Solve Ax = b, assuming A is triangular\n",
      "    y = linalg.solve_triangular(R[:p, :p], d, trans='T', lower=False)\n",
      "    A = np.dot(A, Q)\n",
      "    \n",
      "    # Least squares solution to Ax = b\n",
      "    z = linalg.lstsq(A[:, p:], b - np.dot(A[:, :p], y),\n",
      "                         cond=cond)[0].ravel()\n",
      "                         \n",
      "    return np.dot(Q[:, :p], y) + np.dot(Q[:, p:], z)"
     ],
     "language": "python",
     "outputs": [],
     "prompt_number": 6
    },
    {
     "cell_type": "code",
     "input": [
      "A, b = [[0, 2, 3], [1, 3, 4.5]], [1, 1]\n",
      "B, d = [[1, 1, 0]], [1]\n",
      "lse(A, b, B, d)"
     ],
     "language": "python",
     "outputs": [
      {
       "output_type": "pyout",
       "prompt_number": 7,
       "text": [
        "array([-0.5       ,  1.5       , -0.66666667])"
       ]
      }
     ],
     "prompt_number": 7
    },
    {
     "cell_type": "markdown",
     "source": [
      "## Matplotlib\n",
      "\n",
      "This is the most widely-used 2-D plotting module for Python, allowing users to generate publication-quality plots. **Matplotlib** offers a high level of control and the ability to generate interactive output."
     ]
    },
    {
     "cell_type": "code",
     "input": [
      "import matplotlib.pyplot as plt\n",
      "\n",
      "fig = plt.figure()\n",
      "x = np.linspace(0,2*np.pi,100)\n",
      "y = 2*np.sin(x)\n",
      "ax = fig.add_subplot(1,2,1)\n",
      "ax.plot(x,y)\n",
      "y2 = y + 0.1*np.random.normal( size=x.shape )\n",
      "ax = fig.add_subplot(1,2,2)\n",
      "ax.plot(x,y2,'bo')"
     ],
     "language": "python",
     "outputs": [
      {
       "output_type": "pyout",
       "prompt_number": 8,
       "text": [
        "[<matplotlib.lines.Line2D at 0x108206c10>]"
       ]
      },
      {
       "output_type": "display_data",
       "png": "[encoded data removed]"
      }
     ],
     "prompt_number": 8
    },
    {
     "cell_type": "code",
     "input": [
      "from pymc.examples import gelman_bioassay\n",
      "from pymc import MCMC, Matplot\n",
      "M = MCMC(gelman_bioassay)\n",
      "M.sample(1000,verbose=0)"
     ],
     "language": "python",
     "outputs": [
      {
       "output_type": "stream",
       "stream": "stdout",
       "text": [
        " \r",
        "[****************100%******************]  1000 of 1000 complete"
       ]
      },
      {
       "output_type": "stream",
       "stream": "stdout",
       "text": [
        "\n"
       ]
      }
     ],
     "prompt_number": 9
    },
    {
     "cell_type": "code",
     "input": [
      "Matplot.plot(M.alpha)"
     ],
     "language": "python",
     "outputs": [
      {
       "output_type": "stream",
       "stream": "stdout",
       "text": [
        "Plotting alpha\n"
       ]
      },
      {
       "output_type": "display_data",
       "png": "[encoded data removed]"
      }
     ],
     "prompt_number": 10
    },
    {
     "cell_type": "code",
     "input": [
      "import numpy as np\n",
      "import matplotlib.pyplot as plt\n",
      "from matplotlib.patches import Polygon\n",
      "\n",
      "\n",
      "# Generate some data from five different probability distributions,\n",
      "# each with different characteristics. We want to play with how an IID\n",
      "# bootstrap resample of the data preserves the distributional\n",
      "# properties of the original sample, and a boxplot is one visual tool\n",
      "# to make this assessment\n",
      "numDists = 5\n",
      "randomDists = ['Normal(1,1)',' Lognormal(1,1)', 'Exp(1)', 'Gumbel(6,4)',\n",
      "              'Triangular(2,9,11)']\n",
      "N = 500\n",
      "norm = np.random.normal(1,1, N)\n",
      "logn = np.random.lognormal(1,1, N)\n",
      "expo = np.random.exponential(1, N)\n",
      "gumb = np.random.gumbel(6, 4, N)\n",
      "tria = np.random.triangular(2, 9, 11, N)\n",
      "\n",
      "# Generate some random indices that we'll use to resample the original data\n",
      "# arrays. For code brevity, just use the same random indices for each array\n",
      "bootstrapIndices = np.random.random_integers(0, N-1, N)\n",
      "normBoot = norm[bootstrapIndices]\n",
      "expoBoot = expo[bootstrapIndices]\n",
      "gumbBoot = gumb[bootstrapIndices]\n",
      "lognBoot = logn[bootstrapIndices]\n",
      "triaBoot = tria[bootstrapIndices]\n",
      "\n",
      "data = [norm, normBoot,  logn, lognBoot, expo, expoBoot, gumb, gumbBoot,\n",
      "       tria, triaBoot]\n",
      "\n",
      "fig = plt.figure(figsize=(10,6))\n",
      "fig.canvas.set_window_title('A Boxplot Example')\n",
      "ax1 = fig.add_subplot(111)\n",
      "plt.subplots_adjust(left=0.075, right=0.95, top=0.9, bottom=0.25)\n",
      "\n",
      "bp = plt.boxplot(data, notch=0, sym='+', vert=1, whis=1.5)\n",
      "plt.setp(bp['boxes'], color='black')\n",
      "plt.setp(bp['whiskers'], color='black')\n",
      "plt.setp(bp['fliers'], color='red', marker='+')\n",
      "\n",
      "# Add a horizontal grid to the plot, but make it very light in color\n",
      "# so we can use it for reading data values but not be distracting\n",
      "ax1.yaxis.grid(True, linestyle='-', which='major', color='lightgrey',\n",
      "              alpha=0.5)\n",
      "\n",
      "# Hide these grid behind plot objects\n",
      "ax1.set_axisbelow(True)\n",
      "ax1.set_title('Comparison of IID Bootstrap Resampling Across Five Distributions')\n",
      "ax1.set_xlabel('Distribution')\n",
      "ax1.set_ylabel('Value')\n",
      "\n",
      "# Now fill the boxes with desired colors\n",
      "boxColors = ['darkkhaki','royalblue']\n",
      "numBoxes = numDists*2\n",
      "medians = range(numBoxes)\n",
      "for i in range(numBoxes):\n",
      "  box = bp['boxes'][i]\n",
      "  boxX = []\n",
      "  boxY = []\n",
      "  for j in range(5):\n",
      "      boxX.append(box.get_xdata()[j])\n",
      "      boxY.append(box.get_ydata()[j])\n",
      "  boxCoords = zip(boxX,boxY)\n",
      "  # Alternate between Dark Khaki and Royal Blue\n",
      "  k = i % 2\n",
      "  boxPolygon = Polygon(boxCoords, facecolor=boxColors[k])\n",
      "  ax1.add_patch(boxPolygon)\n",
      "  # Now draw the median lines back over what we just filled in\n",
      "  med = bp['medians'][i]\n",
      "  medianX = []\n",
      "  medianY = []\n",
      "  for j in range(2):\n",
      "      medianX.append(med.get_xdata()[j])\n",
      "      medianY.append(med.get_ydata()[j])\n",
      "      plt.plot(medianX, medianY, 'k')\n",
      "      medians[i] = medianY[0]\n",
      "  # Finally, overplot the sample averages, with horixzontal alignment\n",
      "  # in the center of each box\n",
      "  plt.plot([np.average(med.get_xdata())], [np.average(data[i])],\n",
      "           color='w', marker='*', markeredgecolor='k')\n",
      "\n",
      "# Set the axes ranges and axes labels\n",
      "ax1.set_xlim(0.5, numBoxes+0.5)\n",
      "top = 40\n",
      "bottom = -5\n",
      "ax1.set_ylim(bottom, top)\n",
      "xtickNames = plt.setp(ax1, xticklabels=np.repeat(randomDists, 2))\n",
      "plt.setp(xtickNames, rotation=45, fontsize=8)\n",
      "\n",
      "# Due to the Y-axis scale being different across samples, it can be\n",
      "# hard to compare differences in medians across the samples. Add upper\n",
      "# X-axis tick labels with the sample medians to aid in comparison\n",
      "# (just use two decimal places of precision)\n",
      "pos = np.arange(numBoxes)+1\n",
      "upperLabels = [str(np.round(s, 2)) for s in medians]\n",
      "weights = ['bold', 'semibold']\n",
      "for tick,label in zip(range(numBoxes),ax1.get_xticklabels()):\n",
      "   k = tick % 2\n",
      "   ax1.text(pos[tick], top-(top*0.05), upperLabels[tick],\n",
      "        horizontalalignment='center', size='x-small', weight=weights[k],\n",
      "        color=boxColors[k])\n",
      "\n",
      "# Finally, add a basic legend\n",
      "plt.figtext(0.80, 0.08,  str(N) + ' Random Numbers' ,\n",
      "           backgroundcolor=boxColors[0], color='black', weight='roman',\n",
      "           size='x-small')\n",
      "plt.figtext(0.80, 0.045, 'IID Bootstrap Resample',\n",
      "backgroundcolor=boxColors[1],\n",
      "           color='white', weight='roman', size='x-small')\n",
      "plt.figtext(0.80, 0.015, '*', color='white', backgroundcolor='silver',\n",
      "           weight='roman', size='medium')\n",
      "plt.figtext(0.815, 0.013, ' Average Value', color='black', weight='roman',\n",
      "           size='x-small')\n",
      "\n",
      "plt.show()"
     ],
     "language": "python",
     "outputs": [
      {
       "output_type": "display_data",
       "png": "[encoded data removed]"
      }
     ],
     "prompt_number": 11
    },
    {
     "cell_type": "markdown",
     "source": [
      "## IPython\n",
      "\n",
      "**IPython** is an enhanced Python shell which provides a more robust and productive development environment for users. It includes the **HTML notebook** featured here, as well as support for **interactive data visualization** and easy high-performance **parallel computing**."
     ]
    },
    {
     "cell_type": "markdown",
     "source": [
      "### Magic functions\n",
      "\n",
      "IPython has a set of predefined \u2018magic functions\u2019 that you can call with a command line style syntax. These include:\n",
      "\n",
      "* `%run`\n",
      "* `%edit`\n",
      "* `%debug`\n",
      "* `%timeit`\n",
      "* `%paste`\n",
      "* `%load_ext`\n",
      "\n",
      "For example, we can use `%load_ext` to load an extension to run R code within IPython:"
     ]
    },
    {
     "cell_type": "code",
     "input": [
      "%load_ext rmagic"
     ],
     "language": "python",
     "outputs": [],
     "prompt_number": 12
    },
    {
     "cell_type": "code",
     "input": [
      "x,y = arange(10), random.normal(size=10)"
     ],
     "language": "python",
     "outputs": [],
     "prompt_number": 13
    },
    {
     "cell_type": "code",
     "input": [
      "%%R -i x,y -o XYcoef\n",
      "lm.fit <- lm(y~x)\n",
      "par(mfrow=c(2,2))\n",
      "plot(lm.fit)\n",
      "XYcoef <- coef(lm.fit)"
     ],
     "language": "python",
     "outputs": [
      {
       "output_type": "display_data",
       "png": "[encoded data removed]"
      }
     ],
     "prompt_number": 14
    },
    {
     "cell_type": "code",
     "input": [
      "XYcoef"
     ],
     "language": "python",
     "outputs": [
      {
       "output_type": "pyout",
       "prompt_number": 15,
       "text": [
        "array([ 0.41949922, -0.10004703])"
       ]
      }
     ],
     "prompt_number": 15
    },
    {
     "cell_type": "markdown",
     "source": [
      "### Dirk's `Rcpp` benchmarks\n",
      "\n",
      "![Dirk](http://www.gravatar.com/avatar/4e96ca7ae02c37e7d940d17997d780e5?s=128&d=identicon&r=PG)"
     ]
    },
    {
     "cell_type": "code",
     "input": [
      "%%R\n",
      "library(compiler)\n",
      "library(rbenchmark)\n",
      "library(inline)\n",
      "library(RcppGSL)\n",
      "\n",
      "Rgibbs <- function(N,thin) {\n",
      "    mat <- matrix(0,ncol=2,nrow=N)\n",
      "    x <- 0\n",
      "    y <- 0\n",
      "    for (i in 1:N) {\n",
      "        for (j in 1:thin) {\n",
      "            x <- rgamma(1,3,y*y+4)\n",
      "            y <- rnorm(1,1/(x+1),1/sqrt(2*(x+1)))\n",
      "        }\n",
      "        mat[i,] <- c(x,y)\n",
      "    }\n",
      "    mat\n",
      "}\n",
      "\n",
      "\n",
      "RCgibbs <- cmpfun(Rgibbs)\n",
      "\n",
      "gibbscode <- '\n",
      "\n",
      "  // n and thin are SEXPs which the Rcpp::as function maps to C++ vars\n",
      "  int N   = as<int>(n);\n",
      "  int thn = as<int>(thin);\n",
      "\n",
      "  int i,j;\n",
      "  NumericMatrix mat(N, 2);\n",
      "\n",
      "  RNGScope scope;         // Initialize Random number generator\n",
      "\n",
      "  // The rest of the code follows the R version\n",
      "  double x=0, y=0;\n",
      "\n",
      "  for (i=0; i<N; i++) {\n",
      "    for (j=0; j<thn; j++) {\n",
      "      x = ::Rf_rgamma(3.0,1.0/(y*y+4));\n",
      "      y = ::Rf_rnorm(1.0/(x+1),1.0/sqrt(2*x+2));\n",
      "    }\n",
      "    mat(i,0) = x;\n",
      "    mat(i,1) = y;\n",
      "  }\n",
      "\n",
      "  return mat;             // Return to R\n",
      "'\n",
      "\n",
      "RcppGibbs <- cxxfunction(signature(n=\"int\", thin = \"int\"), gibbscode, plugin=\"Rcpp\")\n",
      "\n",
      "N <- 1000\n",
      "thn <- 10\n",
      "res <- benchmark(Rgibbs(N, thn), RCgibbs(N, thn), RcppGibbs(N, thn), order=\"relative\", replications=10)\n",
      "print(res)"
     ],
     "language": "python",
     "outputs": [
      {
       "output_type": "display_data",
       "text": [
        "Loading required package: Rcpp\n",
        "               test replications elapsed relative user.self sys.self user.child\n",
        "3 RcppGibbs(N, thn)           10   0.027  1.00000     0.027    0.001          0\n",
        "2   RCgibbs(N, thn)           10   0.888 32.88889     0.883    0.005          0\n",
        "1    Rgibbs(N, thn)           10   1.126 41.70370     1.115    0.010          0\n",
        "  sys.child\n",
        "3         0\n",
        "2         0\n",
        "1         0\n"
       ]
      }
     ],
     "prompt_number": 16
    },
    {
     "cell_type": "markdown",
     "source": [
      "## Pandas\n",
      "\n",
      "Pandas provides high-performance data structures for data manipulation and analysis. In particular, it allows for intelligent **data alignment** and integrated handling of **missing data**. Datasets can be easily reshaped, sliced, subsetted, and indexed hierarchically.\n",
      "\n",
      "$$\\text{data.frame} \\subsetneq \\text{pandas.DataFrame}$$\n",
      "\n",
      "Here's a trivial example of a pandas `DataFrame`, populated with columns of various types:"
     ]
    },
    {
     "cell_type": "code",
     "input": [
      "from pandas import *\n",
      "df = DataFrame({'A' : ['one', 'one', 'two', 'three'] * 6,\n",
      "                'B' : ['A', 'B', 'C'] * 8,\n",
      "                'C' : ['foo', 'foo', 'foo', 'bar', 'bar', 'bar'] * 4,\n",
      "                'D' : np.random.randn(24),\n",
      "                'E' : np.random.randn(24),\n",
      "                'F' : DateRange(start='4/1/2012', periods=24)})\n",
      "\n",
      "df"
     ],
     "language": "python",
     "outputs": [
      {
       "html": [
        "<div style=\"max-height:1000px;max-width:1500px;overflow:auto;\">\n",
        "<table border=\"1\">\n",
        "  <thead>\n",
        "    <tr>\n",
        "      <th></th>\n",
        "      <th>A</th>\n",
        "      <th>B</th>\n",
        "      <th>C</th>\n",
        "      <th>D</th>\n",
        "      <th>E</th>\n",
        "      <th>F</th>\n",
        "    </tr>\n",
        "    </thead>\n",
        "    <tbody>\n",
        "    <tr>\n",
        "      <td><strong>0</strong></td>\n",
        "      <td>   one</td>\n",
        "      <td> A</td>\n",
        "      <td> foo</td>\n",
        "      <td> 0.799663</td>\n",
        "      <td> 0.030021</td>\n",
        "      <td> 2012-04-02 00:00:00</td>\n",
        "    </tr>\n",
        "    <tr>\n",
        "      <td><strong>1</strong></td>\n",
        "      <td>   one</td>\n",
        "      <td> B</td>\n",
        "      <td> foo</td>\n",
        "      <td>-0.522646</td>\n",
        "      <td> 0.220671</td>\n",
        "      <td> 2012-04-03 00:00:00</td>\n",
        "    </tr>\n",
        "    <tr>\n",
        "      <td><strong>2</strong></td>\n",
        "      <td>   two</td>\n",
        "      <td> C</td>\n",
        "      <td> foo</td>\n",
        "      <td>-0.468866</td>\n",
        "      <td> 0.016852</td>\n",
        "      <td> 2012-04-04 00:00:00</td>\n",
        "    </tr>\n",
        "    <tr>\n",
        "      <td><strong>3</strong></td>\n",
        "      <td> three</td>\n",
        "      <td> A</td>\n",
        "      <td> bar</td>\n",
        "      <td>-0.393212</td>\n",
        "      <td> 0.593464</td>\n",
        "      <td> 2012-04-05 00:00:00</td>\n",
        "    </tr>\n",
        "    <tr>\n",
        "      <td><strong>4</strong></td>\n",
        "      <td>   one</td>\n",
        "      <td> B</td>\n",
        "      <td> bar</td>\n",
        "      <td>-0.575404</td>\n",
        "      <td>-1.621361</td>\n",
        "      <td> 2012-04-06 00:00:00</td>\n",
        "    </tr>\n",
        "    <tr>\n",
        "      <td><strong>5</strong></td>\n",
        "      <td>   one</td>\n",
        "      <td> C</td>\n",
        "      <td> bar</td>\n",
        "      <td> 0.228977</td>\n",
        "      <td>-1.256740</td>\n",
        "      <td> 2012-04-09 00:00:00</td>\n",
        "    </tr>\n",
        "    <tr>\n",
        "      <td><strong>6</strong></td>\n",
        "      <td>   two</td>\n",
        "      <td> A</td>\n",
        "      <td> foo</td>\n",
        "      <td>-1.226878</td>\n",
        "      <td>-0.467621</td>\n",
        "      <td> 2012-04-10 00:00:00</td>\n",
        "    </tr>\n",
        "    <tr>\n",
        "      <td><strong>7</strong></td>\n",
        "      <td> three</td>\n",
        "      <td> B</td>\n",
        "      <td> foo</td>\n",
        "      <td>-1.449318</td>\n",
        "      <td> 1.317463</td>\n",
        "      <td> 2012-04-11 00:00:00</td>\n",
        "    </tr>\n",
        "    <tr>\n",
        "      <td><strong>8</strong></td>\n",
        "      <td>   one</td>\n",
        "      <td> C</td>\n",
        "      <td> foo</td>\n",
        "      <td> 0.158045</td>\n",
        "      <td>-0.388078</td>\n",
        "      <td> 2012-04-12 00:00:00</td>\n",
        "    </tr>\n",
        "    <tr>\n",
        "      <td><strong>9</strong></td>\n",
        "      <td>   one</td>\n",
        "      <td> A</td>\n",
        "      <td> bar</td>\n",
        "      <td>-0.149894</td>\n",
        "      <td> 0.498263</td>\n",
        "      <td> 2012-04-13 00:00:00</td>\n",
        "    </tr>\n",
        "    <tr>\n",
        "      <td><strong>10</strong></td>\n",
        "      <td>   two</td>\n",
        "      <td> B</td>\n",
        "      <td> bar</td>\n",
        "      <td> 0.061315</td>\n",
        "      <td>-0.999789</td>\n",
        "      <td> 2012-04-16 00:00:00</td>\n",
        "    </tr>\n",
        "    <tr>\n",
        "      <td><strong>11</strong></td>\n",
        "      <td> three</td>\n",
        "      <td> C</td>\n",
        "      <td> bar</td>\n",
        "      <td>-0.087721</td>\n",
        "      <td> 0.697154</td>\n",
        "      <td> 2012-04-17 00:00:00</td>\n",
        "    </tr>\n",
        "    <tr>\n",
        "      <td><strong>12</strong></td>\n",
        "      <td>   one</td>\n",
        "      <td> A</td>\n",
        "      <td> foo</td>\n",
        "      <td> 0.849112</td>\n",
        "      <td> 0.044553</td>\n",
        "      <td> 2012-04-18 00:00:00</td>\n",
        "    </tr>\n",
        "    <tr>\n",
        "      <td><strong>13</strong></td>\n",
        "      <td>   one</td>\n",
        "      <td> B</td>\n",
        "      <td> foo</td>\n",
        "      <td>-1.305085</td>\n",
        "      <td>-1.332287</td>\n",
        "      <td> 2012-04-19 00:00:00</td>\n",
        "    </tr>\n",
        "    <tr>\n",
        "      <td><strong>14</strong></td>\n",
        "      <td>   two</td>\n",
        "      <td> C</td>\n",
        "      <td> foo</td>\n",
        "      <td>-1.435599</td>\n",
        "      <td>-1.261241</td>\n",
        "      <td> 2012-04-20 00:00:00</td>\n",
        "    </tr>\n",
        "    <tr>\n",
        "      <td><strong>15</strong></td>\n",
        "      <td> three</td>\n",
        "      <td> A</td>\n",
        "      <td> bar</td>\n",
        "      <td>-0.560977</td>\n",
        "      <td>-1.133941</td>\n",
        "      <td> 2012-04-23 00:00:00</td>\n",
        "    </tr>\n",
        "    <tr>\n",
        "      <td><strong>16</strong></td>\n",
        "      <td>   one</td>\n",
        "      <td> B</td>\n",
        "      <td> bar</td>\n",
        "      <td>-0.672480</td>\n",
        "      <td>-0.093903</td>\n",
        "      <td> 2012-04-24 00:00:00</td>\n",
        "    </tr>\n",
        "    <tr>\n",
        "      <td><strong>17</strong></td>\n",
        "      <td>   one</td>\n",
        "      <td> C</td>\n",
        "      <td> bar</td>\n",
        "      <td> 0.299152</td>\n",
        "      <td>-0.886278</td>\n",
        "      <td> 2012-04-25 00:00:00</td>\n",
        "    </tr>\n",
        "    <tr>\n",
        "      <td><strong>18</strong></td>\n",
        "      <td>   two</td>\n",
        "      <td> A</td>\n",
        "      <td> foo</td>\n",
        "      <td> 1.912571</td>\n",
        "      <td>-1.428091</td>\n",
        "      <td> 2012-04-26 00:00:00</td>\n",
        "    </tr>\n",
        "    <tr>\n",
        "      <td><strong>19</strong></td>\n",
        "      <td> three</td>\n",
        "      <td> B</td>\n",
        "      <td> foo</td>\n",
        "      <td> 0.474440</td>\n",
        "      <td>-0.104162</td>\n",
        "      <td> 2012-04-27 00:00:00</td>\n",
        "    </tr>\n",
        "    <tr>\n",
        "      <td><strong>20</strong></td>\n",
        "      <td>   one</td>\n",
        "      <td> C</td>\n",
        "      <td> foo</td>\n",
        "      <td>-0.451927</td>\n",
        "      <td>-0.044103</td>\n",
        "      <td> 2012-04-30 00:00:00</td>\n",
        "    </tr>\n",
        "    <tr>\n",
        "      <td><strong>21</strong></td>\n",
        "      <td>   one</td>\n",
        "      <td> A</td>\n",
        "      <td> bar</td>\n",
        "      <td> 0.135511</td>\n",
        "      <td> 1.126078</td>\n",
        "      <td> 2012-05-01 00:00:00</td>\n",
        "    </tr>\n",
        "    <tr>\n",
        "      <td><strong>22</strong></td>\n",
        "      <td>   two</td>\n",
        "      <td> B</td>\n",
        "      <td> bar</td>\n",
        "      <td>-1.067146</td>\n",
        "      <td> 0.057069</td>\n",
        "      <td> 2012-05-02 00:00:00</td>\n",
        "    </tr>\n",
        "    <tr>\n",
        "      <td><strong>23</strong></td>\n",
        "      <td> three</td>\n",
        "      <td> C</td>\n",
        "      <td> bar</td>\n",
        "      <td> 0.485477</td>\n",
        "      <td>-0.241935</td>\n",
        "      <td> 2012-05-03 00:00:00</td>\n",
        "    </tr>\n",
        "  </tbody>\n",
        "</table>\n",
        "</div>"
       ],
       "output_type": "pyout",
       "prompt_number": 17,
       "text": [
        "        A  B    C         D         E                    F\n",
        "0     one  A  foo  0.799663  0.030021  2012-04-02 00:00:00\n",
        "1     one  B  foo -0.522646  0.220671  2012-04-03 00:00:00\n",
        "2     two  C  foo -0.468866  0.016852  2012-04-04 00:00:00\n",
        "3   three  A  bar -0.393212  0.593464  2012-04-05 00:00:00\n",
        "4     one  B  bar -0.575404 -1.621361  2012-04-06 00:00:00\n",
        "5     one  C  bar  0.228977 -1.256740  2012-04-09 00:00:00\n",
        "6     two  A  foo -1.226878 -0.467621  2012-04-10 00:00:00\n",
        "7   three  B  foo -1.449318  1.317463  2012-04-11 00:00:00\n",
        "8     one  C  foo  0.158045 -0.388078  2012-04-12 00:00:00\n",
        "9     one  A  bar -0.149894  0.498263  2012-04-13 00:00:00\n",
        "10    two  B  bar  0.061315 -0.999789  2012-04-16 00:00:00\n",
        "11  three  C  bar -0.087721  0.697154  2012-04-17 00:00:00\n",
        "12    one  A  foo  0.849112  0.044553  2012-04-18 00:00:00\n",
        "13    one  B  foo -1.305085 -1.332287  2012-04-19 00:00:00\n",
        "14    two  C  foo -1.435599 -1.261241  2012-04-20 00:00:00\n",
        "15  three  A  bar -0.560977 -1.133941  2012-04-23 00:00:00\n",
        "16    one  B  bar -0.672480 -0.093903  2012-04-24 00:00:00\n",
        "17    one  C  bar  0.299152 -0.886278  2012-04-25 00:00:00\n",
        "18    two  A  foo  1.912571 -1.428091  2012-04-26 00:00:00\n",
        "19  three  B  foo  0.474440 -0.104162  2012-04-27 00:00:00\n",
        "20    one  C  foo -0.451927 -0.044103  2012-04-30 00:00:00\n",
        "21    one  A  bar  0.135511  1.126078  2012-05-01 00:00:00\n",
        "22    two  B  bar -1.067146  0.057069  2012-05-02 00:00:00\n",
        "23  three  C  bar  0.485477 -0.241935  2012-05-03 00:00:00"
       ]
      }
     ],
     "prompt_number": 17
    },
    {
     "cell_type": "markdown",
     "source": [
      "Pandas ships with a few sample datasets, such as 100 records of baseball batting data, which is easily imported into a `DataFrame` using the `read_csv` function:"
     ]
    },
    {
     "cell_type": "code",
     "input": [
      "baseball = read_csv(\"/Users/fonnescj/Code/pandas/doc/data/baseball.csv\")\n",
      "baseball"
     ],
     "language": "python",
     "outputs": [
      {
       "output_type": "pyout",
       "prompt_number": 18,
       "text": [
        "<class 'pandas.core.frame.DataFrame'>\n",
        "Int64Index: 100 entries, 88641 to 89534\n",
        "Data columns:\n",
        "id       100  non-null values\n",
        "year     100  non-null values\n",
        "stint    100  non-null values\n",
        "team     100  non-null values\n",
        "lg       100  non-null values\n",
        "g        100  non-null values\n",
        "ab       100  non-null values\n",
        "r        100  non-null values\n",
        "h        100  non-null values\n",
        "X2b      100  non-null values\n",
        "X3b      100  non-null values\n",
        "hr       100  non-null values\n",
        "rbi      100  non-null values\n",
        "sb       100  non-null values\n",
        "cs       100  non-null values\n",
        "bb       100  non-null values\n",
        "so       100  non-null values\n",
        "ibb      100  non-null values\n",
        "hbp      100  non-null values\n",
        "sh       100  non-null values\n",
        "sf       100  non-null values\n",
        "gidp     100  non-null values\n",
        "dtypes: float64(9), int64(10), object(3)"
       ]
      }
     ],
     "prompt_number": 18
    },
    {
     "cell_type": "markdown",
     "source": [
      "The `DataFrame` possesses a suite of methods for indexing, slicing and manipulating its contents. Here's an arbitrary record:"
     ]
    },
    {
     "cell_type": "code",
     "input": [
      "baseball.ix[88650]"
     ],
     "language": "python",
     "outputs": [
      {
       "output_type": "pyout",
       "prompt_number": 19,
       "text": [
        "id       johnsra05\n",
        "year          2006\n",
        "stint            1\n",
        "team           NYA\n",
        "lg              AL\n",
        "g               33\n",
        "ab               6\n",
        "r                0\n",
        "h                1\n",
        "X2b              0\n",
        "X3b              0\n",
        "hr               0\n",
        "rbi              0\n",
        "sb               0\n",
        "cs               0\n",
        "bb               0\n",
        "so               4\n",
        "ibb              0\n",
        "hbp              0\n",
        "sh               0\n",
        "sf               0\n",
        "gidp             0\n",
        "Name: 88650"
       ]
      }
     ],
     "prompt_number": 19
    },
    {
     "cell_type": "markdown",
     "source": [
      "We can carry out spreadsheet-like actions on a `DataFrame`, such as pivoting and crosstabs:"
     ]
    },
    {
     "cell_type": "code",
     "input": [
      "pivot_table(baseball, values=['hr','so'], rows=['team', 'year'], aggfunc=sum)"
     ],
     "language": "python",
     "outputs": [
      {
       "html": [
        "<div style=\"max-height:1000px;max-width:1500px;overflow:auto;\">\n",
        "<table border=\"1\">\n",
        "  <thead>\n",
        "    <tr>\n",
        "      <th></th>\n",
        "      <th></th>\n",
        "      <th>hr</th>\n",
        "      <th>so</th>\n",
        "    </tr>\n",
        "    <tr>\n",
        "      <th>team</th>\n",
        "      <th>year</th>\n",
        "      <th></th>\n",
        "      <th></th>\n",
        "    </tr>\n",
        "    </thead>\n",
        "    <tbody>\n",
        "    <tr>\n",
        "      <td><strong>ARI</strong></td>\n",
        "      <td><strong>2006</strong></td>\n",
        "      <td> 15</td>\n",
        "      <td>  58</td>\n",
        "    </tr>\n",
        "    <tr>\n",
        "      <td><strong>ARI</strong></td>\n",
        "      <td><strong>2007</strong></td>\n",
        "      <td>  0</td>\n",
        "      <td>  13</td>\n",
        "    </tr>\n",
        "    <tr>\n",
        "      <td><strong>ATL</strong></td>\n",
        "      <td><strong>2007</strong></td>\n",
        "      <td>  0</td>\n",
        "      <td>  29</td>\n",
        "    </tr>\n",
        "    <tr>\n",
        "      <td><strong>BAL</strong></td>\n",
        "      <td><strong>2007</strong></td>\n",
        "      <td>  1</td>\n",
        "      <td>  23</td>\n",
        "    </tr>\n",
        "    <tr>\n",
        "      <td><strong>BOS</strong></td>\n",
        "      <td><strong>2006</strong></td>\n",
        "      <td>  0</td>\n",
        "      <td>   1</td>\n",
        "    </tr>\n",
        "    <tr>\n",
        "      <td><strong>BOS</strong></td>\n",
        "      <td><strong>2007</strong></td>\n",
        "      <td> 20</td>\n",
        "      <td> 101</td>\n",
        "    </tr>\n",
        "    <tr>\n",
        "      <td><strong>CHA</strong></td>\n",
        "      <td><strong>2007</strong></td>\n",
        "      <td> 35</td>\n",
        "      <td> 134</td>\n",
        "    </tr>\n",
        "    <tr>\n",
        "      <td><strong>CHN</strong></td>\n",
        "      <td><strong>2006</strong></td>\n",
        "      <td>  1</td>\n",
        "      <td>   4</td>\n",
        "    </tr>\n",
        "    <tr>\n",
        "      <td><strong>CHN</strong></td>\n",
        "      <td><strong>2007</strong></td>\n",
        "      <td>  9</td>\n",
        "      <td>  48</td>\n",
        "    </tr>\n",
        "    <tr>\n",
        "      <td><strong>CIN</strong></td>\n",
        "      <td><strong>2007</strong></td>\n",
        "      <td> 36</td>\n",
        "      <td> 127</td>\n",
        "    </tr>\n",
        "    <tr>\n",
        "      <td><strong>CLE</strong></td>\n",
        "      <td><strong>2007</strong></td>\n",
        "      <td>  0</td>\n",
        "      <td>  29</td>\n",
        "    </tr>\n",
        "    <tr>\n",
        "      <td><strong>COL</strong></td>\n",
        "      <td><strong>2007</strong></td>\n",
        "      <td>  2</td>\n",
        "      <td>  14</td>\n",
        "    </tr>\n",
        "    <tr>\n",
        "      <td><strong>DET</strong></td>\n",
        "      <td><strong>2007</strong></td>\n",
        "      <td> 37</td>\n",
        "      <td> 176</td>\n",
        "    </tr>\n",
        "    <tr>\n",
        "      <td><strong>FLO</strong></td>\n",
        "      <td><strong>2007</strong></td>\n",
        "      <td>  0</td>\n",
        "      <td>   0</td>\n",
        "    </tr>\n",
        "    <tr>\n",
        "      <td><strong>HOU</strong></td>\n",
        "      <td><strong>2007</strong></td>\n",
        "      <td> 14</td>\n",
        "      <td> 212</td>\n",
        "    </tr>\n",
        "    <tr>\n",
        "      <td><strong>KCA</strong></td>\n",
        "      <td><strong>2007</strong></td>\n",
        "      <td>  2</td>\n",
        "      <td>  15</td>\n",
        "    </tr>\n",
        "    <tr>\n",
        "      <td><strong>LAA</strong></td>\n",
        "      <td><strong>2007</strong></td>\n",
        "      <td>  0</td>\n",
        "      <td>   0</td>\n",
        "    </tr>\n",
        "    <tr>\n",
        "      <td><strong>LAN</strong></td>\n",
        "      <td><strong>2006</strong></td>\n",
        "      <td>  0</td>\n",
        "      <td>   7</td>\n",
        "    </tr>\n",
        "    <tr>\n",
        "      <td><strong>LAN</strong></td>\n",
        "      <td><strong>2007</strong></td>\n",
        "      <td> 36</td>\n",
        "      <td> 141</td>\n",
        "    </tr>\n",
        "    <tr>\n",
        "      <td><strong>MIL</strong></td>\n",
        "      <td><strong>2006</strong></td>\n",
        "      <td>  0</td>\n",
        "      <td>   2</td>\n",
        "    </tr>\n",
        "    <tr>\n",
        "      <td><strong>MIL</strong></td>\n",
        "      <td><strong>2007</strong></td>\n",
        "      <td>  9</td>\n",
        "      <td>  60</td>\n",
        "    </tr>\n",
        "    <tr>\n",
        "      <td><strong>MIN</strong></td>\n",
        "      <td><strong>2007</strong></td>\n",
        "      <td>  6</td>\n",
        "      <td>  32</td>\n",
        "    </tr>\n",
        "    <tr>\n",
        "      <td><strong>NYA</strong></td>\n",
        "      <td><strong>2006</strong></td>\n",
        "      <td>  0</td>\n",
        "      <td>   4</td>\n",
        "    </tr>\n",
        "    <tr>\n",
        "      <td><strong>NYA</strong></td>\n",
        "      <td><strong>2007</strong></td>\n",
        "      <td>  0</td>\n",
        "      <td>   0</td>\n",
        "    </tr>\n",
        "    <tr>\n",
        "      <td><strong>NYN</strong></td>\n",
        "      <td><strong>2007</strong></td>\n",
        "      <td> 61</td>\n",
        "      <td> 310</td>\n",
        "    </tr>\n",
        "    <tr>\n",
        "      <td><strong>OAK</strong></td>\n",
        "      <td><strong>2007</strong></td>\n",
        "      <td>  8</td>\n",
        "      <td>  65</td>\n",
        "    </tr>\n",
        "    <tr>\n",
        "      <td><strong>PHI</strong></td>\n",
        "      <td><strong>2007</strong></td>\n",
        "      <td>  0</td>\n",
        "      <td>  26</td>\n",
        "    </tr>\n",
        "    <tr>\n",
        "      <td><strong>SDN</strong></td>\n",
        "      <td><strong>2007</strong></td>\n",
        "      <td>  0</td>\n",
        "      <td>  31</td>\n",
        "    </tr>\n",
        "    <tr>\n",
        "      <td><strong>SFN</strong></td>\n",
        "      <td><strong>2006</strong></td>\n",
        "      <td>  6</td>\n",
        "      <td>  55</td>\n",
        "    </tr>\n",
        "    <tr>\n",
        "      <td><strong>SFN</strong></td>\n",
        "      <td><strong>2007</strong></td>\n",
        "      <td> 40</td>\n",
        "      <td> 188</td>\n",
        "    </tr>\n",
        "    <tr>\n",
        "      <td><strong>SLN</strong></td>\n",
        "      <td><strong>2007</strong></td>\n",
        "      <td> 13</td>\n",
        "      <td>  98</td>\n",
        "    </tr>\n",
        "    <tr>\n",
        "      <td><strong>TBA</strong></td>\n",
        "      <td><strong>2007</strong></td>\n",
        "      <td>  0</td>\n",
        "      <td>   0</td>\n",
        "    </tr>\n",
        "    <tr>\n",
        "      <td><strong>TEX</strong></td>\n",
        "      <td><strong>2007</strong></td>\n",
        "      <td> 28</td>\n",
        "      <td> 140</td>\n",
        "    </tr>\n",
        "    <tr>\n",
        "      <td><strong>TOR</strong></td>\n",
        "      <td><strong>2007</strong></td>\n",
        "      <td> 58</td>\n",
        "      <td> 265</td>\n",
        "    </tr>\n",
        "  </tbody>\n",
        "</table>\n",
        "</div>"
       ],
       "output_type": "pyout",
       "prompt_number": 20,
       "text": [
        "           hr   so\n",
        "team year         \n",
        "ARI  2006  15   58\n",
        "     2007   0   13\n",
        "ATL  2007   0   29\n",
        "BAL  2007   1   23\n",
        "BOS  2006   0    1\n",
        "     2007  20  101\n",
        "CHA  2007  35  134\n",
        "CHN  2006   1    4\n",
        "     2007   9   48\n",
        "CIN  2007  36  127\n",
        "CLE  2007   0   29\n",
        "COL  2007   2   14\n",
        "DET  2007  37  176\n",
        "FLO  2007   0    0\n",
        "HOU  2007  14  212\n",
        "KCA  2007   2   15\n",
        "LAA  2007   0    0\n",
        "LAN  2006   0    7\n",
        "     2007  36  141\n",
        "MIL  2006   0    2\n",
        "     2007   9   60\n",
        "MIN  2007   6   32\n",
        "NYA  2006   0    4\n",
        "     2007   0    0\n",
        "NYN  2007  61  310\n",
        "OAK  2007   8   65\n",
        "PHI  2007   0   26\n",
        "SDN  2007   0   31\n",
        "SFN  2006   6   55\n",
        "     2007  40  188\n",
        "SLN  2007  13   98\n",
        "TBA  2007   0    0\n",
        "TEX  2007  28  140\n",
        "TOR  2007  58  265"
       ]
      }
     ],
     "prompt_number": 20
    },
    {
     "cell_type": "code",
     "input": [
      "crosstab(baseball.year, baseball.lg, margins=True, colnames=['league'])"
     ],
     "language": "python",
     "outputs": [
      {
       "html": [
        "<div style=\"max-height:1000px;max-width:1500px;overflow:auto;\">\n",
        "<table border=\"1\">\n",
        "  <thead>\n",
        "    <tr>\n",
        "      <th>league</th>\n",
        "      <th>AL</th>\n",
        "      <th>NL</th>\n",
        "      <th>All</th>\n",
        "    </tr>\n",
        "    <tr>\n",
        "      <th>year</th>\n",
        "      <th></th>\n",
        "      <th></th>\n",
        "      <th></th>\n",
        "    </tr>\n",
        "    </thead>\n",
        "    <tbody>\n",
        "    <tr>\n",
        "      <td><strong>2006</strong></td>\n",
        "      <td>  3</td>\n",
        "      <td>  5</td>\n",
        "      <td>   8</td>\n",
        "    </tr>\n",
        "    <tr>\n",
        "      <td><strong>2007</strong></td>\n",
        "      <td> 35</td>\n",
        "      <td> 57</td>\n",
        "      <td>  92</td>\n",
        "    </tr>\n",
        "    <tr>\n",
        "      <td><strong>All</strong></td>\n",
        "      <td> 38</td>\n",
        "      <td> 62</td>\n",
        "      <td> 100</td>\n",
        "    </tr>\n",
        "  </tbody>\n",
        "</table>\n",
        "</div>"
       ],
       "output_type": "pyout",
       "prompt_number": 21,
       "text": [
        "league  AL  NL  All\n",
        "year               \n",
        "2006     3   5    8\n",
        "2007    35  57   92\n",
        "All     38  62  100"
       ]
      }
     ],
     "prompt_number": 21
    },
    {
     "cell_type": "markdown",
     "source": [
      "Not to mention powerful split/apply/combine methods:"
     ]
    },
    {
     "cell_type": "code",
     "input": [
      "def get_stats(group):\n",
      "    return {'max': group.max(), 'count': group.count(), 'mean': group.mean()}"
     ],
     "language": "python",
     "outputs": [],
     "prompt_number": 22
    },
    {
     "cell_type": "code",
     "input": [
      "baseball.groupby('lg')[\"sb\"].apply(get_stats)"
     ],
     "language": "python",
     "outputs": [
      {
       "output_type": "pyout",
       "prompt_number": 23,
       "text": [
        "lg\n",
        "AL    {'count': 38, 'max': 22.0, 'mean': 1.4210526315789473}\n",
        "NL    {'count': 62, 'max': 14.0, 'mean': 1.3548387096774193}"
       ]
      }
     ],
     "prompt_number": 23
    },
    {
     "cell_type": "markdown",
     "source": [
      "## Statsmodels\n",
      "\n",
      "**statsmodels** is a rapidly-evolving module for statistical modeling in Python, providing a set of models, statistical tests, plotting functions including:\n",
      "\n",
      "* Linear regression models\n",
      "* Generalized linear models\n",
      "* Discrete choice models\n",
      "* Robust linear models\n",
      "* Time series analysis\n",
      "* Nonparametric estimators\n"
     ]
    },
    {
     "cell_type": "code",
     "input": [
      "import statsmodels.api as sm\n",
      "data = sm.datasets.scotland.load()\n",
      "data.exog = sm.add_constant(data.exog)"
     ],
     "language": "python",
     "outputs": [
      {
       "output_type": "stream",
       "stream": "stderr",
       "text": [
        "/Library/Python/2.7/site-packages/statsmodels-0.5.0-py2.7-macosx-10.7-intel.egg/statsmodels/tools/tools.py:301: FutureWarning: The default of `prepend` will be changed to True in 0.5.0, use explicit prepend\n",
        "  FutureWarning)\n"
       ]
      }
     ],
     "prompt_number": 24
    },
    {
     "cell_type": "code",
     "input": [
      "gamma_model = sm.GLM(data.endog, data.exog, family=sm.families.Gamma())\n",
      "gamma_results = gamma_model.fit()\n",
      "gamma_results.summary()"
     ],
     "language": "python",
     "outputs": [
      {
       "html": [
        "<table class=\"simpletable\">\n",
        "<caption>Generalized Linear Model Regression Results</caption>\n",
        "<tr>\n",
        "  <th>Dep. Variable:</th>          <td>y</td>        <th>  No. Observations:  </th>      <td>    32</td>     \n",
        "</tr>\n",
        "<tr>\n",
        "  <th>Model:</th>                 <td>GLM</td>       <th>  Df Residuals:      </th>      <td>    24</td>     \n",
        "</tr>\n",
        "<tr>\n",
        "  <th>Model Family:</th>         <td>Gamma</td>      <th>  Df Model:          </th>      <td>     7</td>     \n",
        "</tr>\n",
        "<tr>\n",
        "  <th>Link Function:</th>    <td>inverse_power</td>  <th>  Scale:             </th> <td>0.00358428317349</td>\n",
        "</tr>\n",
        "<tr>\n",
        "  <th>Method:</th>               <td>IRLS</td>       <th>  Log-Likelihood:    </th>     <td> -83.017</td>    \n",
        "</tr>\n",
        "<tr>\n",
        "  <th>Date:</th>           <td>Thu, 14 Jun 2012</td> <th>  Deviance:          </th>     <td>0.087389</td>    \n",
        "</tr>\n",
        "<tr>\n",
        "  <th>Time:</th>               <td>13:07:46</td>     <th>  Pearson chi2:      </th>      <td>0.0860</td>     \n",
        "</tr>\n",
        "<tr>\n",
        "  <th>No. Iterations:</th>         <td>5</td>        <th>                     </th>         <td> </td>       \n",
        "</tr>\n",
        "</table>\n",
        "<table class=\"simpletable\">\n",
        "<tr>\n",
        "    <td></td>       <th>coef</th>     <th>std err</th>      <th>t</th>      <th>P>|t|</th> <th>[95.0% Conf. Int.]</th> \n",
        "</tr>\n",
        "<tr>\n",
        "  <th>x1</th>    <td> 4.962e-05</td> <td> 1.62e-05</td> <td>    3.060</td> <td> 0.005</td> <td> 1.78e-05  8.14e-05</td>\n",
        "</tr>\n",
        "<tr>\n",
        "  <th>x2</th>    <td>    0.0020</td> <td>    0.001</td> <td>    3.824</td> <td> 0.001</td> <td>    0.001     0.003</td>\n",
        "</tr>\n",
        "<tr>\n",
        "  <th>x3</th>    <td>-7.181e-05</td> <td> 2.71e-05</td> <td>   -2.648</td> <td> 0.014</td> <td>   -0.000 -1.87e-05</td>\n",
        "</tr>\n",
        "<tr>\n",
        "  <th>x4</th>    <td>    0.0001</td> <td> 4.06e-05</td> <td>    2.757</td> <td> 0.011</td> <td> 3.23e-05     0.000</td>\n",
        "</tr>\n",
        "<tr>\n",
        "  <th>x5</th>    <td>-1.468e-07</td> <td> 1.24e-07</td> <td>   -1.187</td> <td> 0.247</td> <td>-3.89e-07  9.56e-08</td>\n",
        "</tr>\n",
        "<tr>\n",
        "  <th>x6</th>    <td>   -0.0005</td> <td>    0.000</td> <td>   -2.159</td> <td> 0.041</td> <td>   -0.001 -4.78e-05</td>\n",
        "</tr>\n",
        "<tr>\n",
        "  <th>x7</th>    <td>-2.427e-06</td> <td> 7.46e-07</td> <td>   -3.253</td> <td> 0.003</td> <td>-3.89e-06 -9.65e-07</td>\n",
        "</tr>\n",
        "<tr>\n",
        "  <th>const</th> <td>   -0.0178</td> <td>    0.011</td> <td>   -1.548</td> <td> 0.135</td> <td>   -0.040     0.005</td>\n",
        "</tr>\n",
        "</table>"
       ],
       "output_type": "pyout",
       "prompt_number": 25,
       "text": [
        "<class 'statsmodels.iolib.summary.Summary'>\n",
        "\"\"\"\n",
        "                 Generalized Linear Model Regression Results                  \n",
        "==============================================================================\n",
        "Dep. Variable:                      y   No. Observations:                   32\n",
        "Model:                            GLM   Df Residuals:                       24\n",
        "Model Family:                   Gamma   Df Model:                            7\n",
        "Link Function:          inverse_power   Scale:                0.00358428317349\n",
        "Method:                          IRLS   Log-Likelihood:                -83.017\n",
        "Date:                Thu, 14 Jun 2012   Deviance:                     0.087389\n",
        "Time:                        13:07:46   Pearson chi2:                   0.0860\n",
        "No. Iterations:                     5                                         \n",
        "==============================================================================\n",
        "                 coef    std err          t      P>|t|      [95.0% Conf. Int.]\n",
        "------------------------------------------------------------------------------\n",
        "x1          4.962e-05   1.62e-05      3.060      0.005      1.78e-05  8.14e-05\n",
        "x2             0.0020      0.001      3.824      0.001         0.001     0.003\n",
        "x3         -7.181e-05   2.71e-05     -2.648      0.014        -0.000 -1.87e-05\n",
        "x4             0.0001   4.06e-05      2.757      0.011      3.23e-05     0.000\n",
        "x5         -1.468e-07   1.24e-07     -1.187      0.247     -3.89e-07  9.56e-08\n",
        "x6            -0.0005      0.000     -2.159      0.041        -0.001 -4.78e-05\n",
        "x7         -2.427e-06   7.46e-07     -3.253      0.003     -3.89e-06 -9.65e-07\n",
        "const         -0.0178      0.011     -1.548      0.135        -0.040     0.005\n",
        "==============================================================================\n",
        "\"\"\""
       ]
      }
     ],
     "prompt_number": 25
    },
    {
     "cell_type": "markdown",
     "source": [
      "## Cython and f2py\n",
      "\n",
      "**f2py** is a Fortran interface generator for Python that ships with NumPy. It is compatible with NumPy's `ndarray` objects, and allows for the use of Fortran 77/90/95 code within Python by simply adding structured comments to functions and subroutines."
     ]
    },
    {
     "cell_type": "markdown",
     "source": [
      "\t      SUBROUTINE bernoulli(x,p,nx,np,like)\n",
      "\n",
      "\tcf2py logical dimension(nx),intent(in) :: x\n",
      "\tcf2py double precision dimension(np),intent(in) :: p\n",
      "\tcf2py integer intent(hide),depend(x) :: nx=len(x)\n",
      "\tcf2py integer intent(hide),depend(p),check(len(p)==1 || len(p)==len(x)):: np=len(p)\n",
      "\tcf2py double precision intent(out) :: like\n",
      "\tcf2py threadsafe\n",
      "\n",
      "\t      IMPLICIT NONE\n",
      "\n",
      "\t      INTEGER np,nx,i\n",
      "\t      DOUBLE PRECISION p(np), ptmp, like\n",
      "\t      LOGICAL x(nx)\n",
      "\t      LOGICAL not_scalar_p\n",
      "\t      DOUBLE PRECISION infinity\n",
      "\t      PARAMETER (infinity = 1.7976931348623157d308)\n",
      "\n",
      "\tC     Check parameter size\n",
      "\t      not_scalar_p = (np .NE. 1)\n",
      "\n",
      "\t      like = 0.0\n",
      "\t      ptmp = p(1)\n",
      "\t      do i=1,nx\n",
      "\t        if (not_scalar_p) ptmp = p(i)\n",
      "\t        if (ptmp .LT. 0.0) then\n",
      "\t          like = -infinity\n",
      "\t          RETURN\n",
      "\t        endif\n",
      "\n",
      "\t        if (x(i)) then\n",
      "\t          like = like + dlog(ptmp)\n",
      "\t        else\n",
      "\t          like = like + dlog(1.0D0 - ptmp)\n",
      "\t        endif\n",
      "\n",
      "\t      enddo\n",
      "\t      return\n",
      "\t      END\n"
     ]
    },
    {
     "cell_type": "code",
     "input": [
      "from pymc.flib import bernoulli\n",
      "bernoulli([1,0,1], 0.3)"
     ],
     "language": "python",
     "outputs": [
      {
       "output_type": "pyout",
       "prompt_number": 26,
       "text": [
        "-2.7646205525906047"
       ]
      }
     ],
     "prompt_number": 26
    },
    {
     "cell_type": "markdown",
     "source": [
      "**Cython** is a language that allows Python programmers to write fast code without having to write C/C++/Fortran directly. It looks much like Python code, but with type declarations. Cython takes this code, translates it to C, then compiles the generated C code to create a Python extension."
     ]
    },
    {
     "cell_type": "heading",
     "level": 3,
     "source": [
      "Benchmark example: Gibbs sampling"
     ]
    },
    {
     "cell_type": "markdown",
     "source": [
      "Gibbs sampler for function:\n",
      "\n",
      "$$f(x,y) = x x^2 \\exp(-xy^2 - y^2 + 2y - 4x)$$\n",
      "\n",
      "using conditional distributions:\n",
      "    \n",
      "$$x|y \\sim Gamma(3, y^2 +4)$$\n",
      "$$y|x \\sim Normal(\\frac{1}{1+x}, \\frac{1}{2(1+x)})$$\n",
      "\n",
      "Here again is the pure Python implementation:"
     ]
    },
    {
     "cell_type": "code",
     "input": [
      "from numpy import zeros, random, sqrt\n",
      "gamma = random.gamma\n",
      "normal = random.normal\n",
      "\n",
      "def pygibbs(N=20000, thin=200):\n",
      "    mat = zeros((N,2))\n",
      "    x,y = mat[0]\n",
      "    for i in range(N):\n",
      "        for j in range(thin):\n",
      "            x = gamma(3, y**2 + 4)\n",
      "            y = normal(1./(x+1), 1./sqrt(2*(x+1)))\n",
      "        mat[i] = x,y\n",
      "\n",
      "    return mat"
     ],
     "language": "python",
     "outputs": [],
     "prompt_number": 27
    },
    {
     "cell_type": "code",
     "input": [
      "timeit pygibbs(1000, 10)"
     ],
     "language": "python",
     "outputs": [
      {
       "output_type": "stream",
       "stream": "stdout",
       "text": [
        "10 loops, best of 3: 86.3 ms per loop\n"
       ]
      }
     ],
     "prompt_number": 28
    },
    {
     "cell_type": "markdown",
     "source": [
      "We can usually get a marginal speedup simply by compiling the Python code, unchanged, using cython:"
     ]
    },
    {
     "cell_type": "code",
     "input": [
      "%load_ext cythonmagic"
     ],
     "language": "python",
     "outputs": [],
     "prompt_number": 29
    },
    {
     "cell_type": "code",
     "input": [
      "%%cython\n",
      "from numpy import zeros, random, sqrt\n",
      "gamma = random.gamma\n",
      "normal = random.normal\n",
      "\n",
      "def pygibbs2(N=20000, thin=200):\n",
      "    mat = zeros((N,2))\n",
      "    x,y = mat[0]\n",
      "    for i in range(N):\n",
      "        for j in range(thin):\n",
      "            x = gamma(3, y**2 + 4)\n",
      "            y = normal(1./(x+1), 1./sqrt(2*(x+1)))\n",
      "        mat[i] = x,y\n",
      "\n",
      "    return mat"
     ],
     "language": "python",
     "outputs": [],
     "prompt_number": 30
    },
    {
     "cell_type": "code",
     "input": [
      "timeit pygibbs2(1000, 10)"
     ],
     "language": "python",
     "outputs": [
      {
       "output_type": "stream",
       "stream": "stdout",
       "text": [
        "10 loops, best of 3: 76.5 ms per loop\n"
       ]
      }
     ],
     "prompt_number": 31
    },
    {
     "cell_type": "markdown",
     "source": [
      "For additional gains, we can simply declare variable types, like you would in C:"
     ]
    },
    {
     "cell_type": "code",
     "input": [
      "%%cython\n",
      "from numpy import zeros, random, sqrt\n",
      "from numpy cimport *\n",
      "gamma = random.gamma\n",
      "normal = random.normal\n",
      "\n",
      "def pygibbs3(int N=20000, int thin=200):\n",
      "    cdef ndarray[float64_t, ndim=2] mat = zeros((N,2))\n",
      "    cdef float64_t x,y = 0\n",
      "    cdef int i,j\n",
      "    for i in range(N):\n",
      "        for j in range(thin):\n",
      "            x = gamma(3, y**2 + 4)\n",
      "            y = normal(1./(x+1), 1./sqrt(2*(x+1)))\n",
      "        mat[i] = x,y\n",
      "\n",
      "    return mat"
     ],
     "language": "python",
     "outputs": [],
     "prompt_number": 32
    },
    {
     "cell_type": "code",
     "input": [
      "timeit pygibbs3(1000, 10)"
     ],
     "language": "python",
     "outputs": [
      {
       "output_type": "stream",
       "stream": "stdout",
       "text": [
        "10 loops, best of 3: 68.7 ms per loop\n"
       ]
      }
     ],
     "prompt_number": 33
    },
    {
     "cell_type": "markdown",
     "source": [
      "A full-flown \"cythonization\" involves using GSL's random number generators, and giving cython a few more instructions:"
     ]
    },
    {
     "cell_type": "code",
     "input": [
      "%%cython -lm -lgsl -lgslcblas\n",
      "\n",
      "cimport cython\n",
      "import numpy as np\n",
      "from numpy cimport *\n",
      "\n",
      "cdef extern from \"math.h\":\n",
      "    double sqrt(double) \n",
      "  \n",
      "cdef extern from \"gsl/gsl_rng.h\":\n",
      "    ctypedef struct gsl_rng_type\n",
      "    ctypedef struct gsl_rng\n",
      "\n",
      "    gsl_rng_type *gsl_rng_mt19937\n",
      "    gsl_rng *gsl_rng_alloc(gsl_rng_type * T) nogil\n",
      "  \n",
      "cdef extern from \"gsl/gsl_randist.h\":\n",
      "    double gamma \"gsl_ran_gamma\"(gsl_rng * r,double,double)\n",
      "    double gaussian \"gsl_ran_gaussian\"(gsl_rng * r,double)\n",
      "  \n",
      "cdef gsl_rng *r = gsl_rng_alloc(gsl_rng_mt19937)\n",
      "\n",
      "@cython.wraparound(False)\n",
      "@cython.boundscheck(False)\n",
      "def gibbs(int N=20000,int thin=500):\n",
      "    cdef: \n",
      "        double x=0\n",
      "        double y=0\n",
      "        int i, j\n",
      "        ndarray[float64_t, ndim=2] samples\n",
      "\n",
      "    samples = np.empty((N,thin))\n",
      "    for i from 0 <= i < N:\n",
      "        for j from 0 <= j < thin:\n",
      "            x = gamma(r,3,1.0/(y*y+4))\n",
      "            y = gaussian(r,1.0/sqrt(x+1))\n",
      "        samples[i,0] = x\n",
      "        samples[i,1] = y\n",
      "    return samples"
     ],
     "language": "python",
     "outputs": [],
     "prompt_number": 34
    },
    {
     "cell_type": "code",
     "input": [
      "timeit gibbs(1000, 10)"
     ],
     "language": "python",
     "outputs": [
      {
       "output_type": "stream",
       "stream": "stdout",
       "text": [
        "1000 loops, best of 3: 1.38 ms per loop\n"
       ]
      }
     ],
     "prompt_number": 35
    },
    {
     "cell_type": "heading",
     "level": 2,
     "source": [
      "Cython parallel"
     ]
    },
    {
     "cell_type": "markdown",
     "source": [
      "Before running the next cell, make sure you have first started your cluster, you can use the [clusters tab in the dashboard](/#tab2) to do so.  Because this example transfers lots of large arrays, we recommend that you first configure your cluster to use the 'NoDB' hub messaging support, which removes a few features but has the lowest memory footprint.  You can do so by putting in your IPython profile directory a file called `ipcontroller_config.py` that contains simply:\n",
      "\n",
      "    # Configuration file for ipcontroller.\n",
      "    c = get_config()\n",
      "    # The class to use for the DB backend\n",
      "    c.HubFactory.db_class = 'IPython.parallel.controller.dictdb.NoDB'\n",
      "\n",
      "See [the IPython docs](http://ipython.org/ipython-doc/dev/parallel/parallel_db.html?#cost) for further details."
     ]
    },
    {
     "cell_type": "code",
     "input": [
      "from IPython.parallel import Client\n",
      "rc = Client()\n",
      "dv = rc[:]\n",
      "dv.block = True\n",
      "dv.activate()"
     ],
     "language": "python",
     "outputs": [],
     "prompt_number": 37
    },
    {
     "cell_type": "markdown",
     "source": [
      "Now, we load the cython magic on all engines and execute the cython magic as well on all engines:"
     ]
    },
    {
     "cell_type": "code",
     "input": [
      "%px %load_ext cythonmagic"
     ],
     "language": "python",
     "outputs": [
      {
       "output_type": "stream",
       "stream": "stdout",
       "text": [
        "Parallel execution on engine(s): [0, 1]\n"
       ]
      }
     ],
     "prompt_number": 38
    },
    {
     "cell_type": "code",
     "input": [
      "%%px\n",
      "%%cython -lm -lgsl -lgslcblas\n",
      "\n",
      "cimport cython\n",
      "import numpy as np\n",
      "from numpy cimport *\n",
      "\n",
      "cdef extern from \"math.h\":\n",
      "    double sqrt(double) \n",
      "  \n",
      "cdef extern from \"gsl/gsl_rng.h\":\n",
      "    ctypedef struct gsl_rng_type\n",
      "    ctypedef struct gsl_rng\n",
      "\n",
      "    gsl_rng_type *gsl_rng_mt19937\n",
      "    gsl_rng *gsl_rng_alloc(gsl_rng_type * T) nogil\n",
      "  \n",
      "cdef extern from \"gsl/gsl_randist.h\":\n",
      "    double gamma \"gsl_ran_gamma\"(gsl_rng * r,double,double)\n",
      "    double gaussian \"gsl_ran_gaussian\"(gsl_rng * r,double)\n",
      "  \n",
      "cdef gsl_rng *r = gsl_rng_alloc(gsl_rng_mt19937)\n",
      "\n",
      "@cython.wraparound(False)\n",
      "@cython.boundscheck(False)\n",
      "def gibbs(int N=20000,int thin=500):\n",
      "    cdef: \n",
      "        double x=0\n",
      "        double y=0\n",
      "        int i, j\n",
      "        ndarray[float64_t, ndim=2] samples\n",
      "\n",
      "    samples = np.empty((N,thin))\n",
      "    for i from 0 <= i < N:\n",
      "        for j from 0 <= j < thin:\n",
      "            x = gamma(r,3,1.0/(y*y+4))\n",
      "            y = gaussian(r,1.0/sqrt(x+1))\n",
      "        samples[i,0] = x\n",
      "        samples[i,1] = y\n",
      "    return samples"
     ],
     "language": "python",
     "outputs": [
      {
       "output_type": "stream",
       "stream": "stdout",
       "text": [
        "Parallel execution on engine(s): [0, 1]\n"
       ]
      }
     ],
     "prompt_number": 42
    },
    {
     "cell_type": "markdown",
     "source": [
      "Divide the array by the number of nodes.  In this case they divide evenly, a more general partitioning of sizes is easy to do as well."
     ]
    },
    {
     "cell_type": "code",
     "input": [
      "N = 1000\n",
      "thin = 10\n",
      "n = N/len(rc.ids)\n",
      "dv.push(dict(n=n, thin=thin))\n",
      "# Let's just confirm visually we got what we expect\n",
      "dv['n']"
     ],
     "language": "python",
     "outputs": [
      {
       "output_type": "pyout",
       "prompt_number": 43,
       "text": [
        "[500, 500]"
       ]
      }
     ],
     "prompt_number": 43
    },
    {
     "cell_type": "markdown",
     "source": [
      "We can time purely the execution of the gibbs sampler on the remote nodes"
     ]
    },
    {
     "cell_type": "code",
     "input": [
      "%%timeit\n",
      "dv.execute('gibbs(n, thin)')"
     ],
     "language": "python",
     "outputs": [
      {
       "output_type": "stream",
       "stream": "stdout",
       "text": [
        "100 loops, best of 3: 8.23 ms per loop\n"
       ]
      }
     ],
     "prompt_number": 44
    },
    {
     "cell_type": "markdown",
     "source": [
      "But a more realistic (and costly) benchmark must also include the cost of bringing the results back from the cluster engines to our local namespace.  For that, we assign the call to the variable `a` on each node and then use the view's `gather` method to pull them back in:"
     ]
    },
    {
     "cell_type": "code",
     "input": [
      "%%timeit\n",
      "dv.execute('a = gibbs(n, thin)')\n",
      "a = dv.gather('a')"
     ],
     "language": "python",
     "outputs": [
      {
       "output_type": "stream",
       "stream": "stdout",
       "text": [
        "100 loops, best of 3: 13.9 ms per loop\n"
       ]
      }
     ],
     "prompt_number": 45
    },
    {
     "cell_type": "markdown",
     "source": [
      "Here we see how on a 4-core machine we get close to a 4-fold speedup on pure execution, but once we have to pay the price of communicating the results back to the local engine, the benefit is less.  In a real parallel application, much of the art of optimization comes in trying to keep the movement of large amounts of data to a minimum, as communication is always *much* more expensive than computation in today's architectures."
     ]
    },
    {
     "cell_type": "markdown",
     "source": [
      "## Gibbs Sampler Shootout\n",
      "\n",
      "Timed on a 11\" MacBook Air (1.8 GHz Intel Core i7)\n",
      "\n",
      "* Python 2.7.1, Cython 0.16\n",
      "* Julia 0.0.0\n",
      "* R 2.14.1, Rcpp 0.9.10\n",
      "\n",
      "Elapsed time for 10 replications of the Gibbs sampler code, each run for 4 million iterations."
     ]
    },
    {
     "cell_type": "markdown",
     "source": [
      "<TABLE cellpadding=\"4\" style=\"border: 1px solid #000000; border-collapse: collapse;\" border=\"1\"> <TR>  <TH>model</TH>  <TH>elapsed</TH>  <TH>relative</TH> </TR> <TR bgcolor=\"#FFFF00\">  <TD>Julia distributed</TD>  <TD>3.38</TD>  <TD>1.0</TD> </TR> <TR>  <TD>GSLGibbs</TD>  <TD>5.46</TD>  <TD>1.6</TD> </TR> <TR bgcolor=\"#00FFFF\">  <TD>Cython</TD>  <TD>5.58</TD>  <TD>1.7</TD> </TR> <TR bgcolor=\"#FFFF00\">  <TD>Julia native RNG</TD>  <TD>7.03</TD>  <TD>2.1</TD> </TR> <TR>  <TD>RcppGibbs</TD>  <TD>9.95</TD>  <TD>2.9</TD> </TR> <TR>  <TD>BoostGibbs</TD>  <TD>10.65</TD>  <TD>3.2</TD> </TR> <TR bgcolor=\"#FFFF00\">  <TD>Julia libRMath</TD>  <TD>17.27</TD>  <TD>5.1</TD> </TR> <TR bgcolor=\"#00FFFF\">  <TD>Pure Python</TD>  <TD>278.51</TD>  <TD>82.4</TD> </TR> <TR>  <TD>RCgibbs</TD>  <TD>328.56</TD>  <TD>97.2</TD> </TR> <TR>  <TD>Rgibbs</TD>  <TD>419.87</TD>  <TD>124.2</TD> </TR></TABLE>"
     ]
    }
   ]
  }
 ]
}